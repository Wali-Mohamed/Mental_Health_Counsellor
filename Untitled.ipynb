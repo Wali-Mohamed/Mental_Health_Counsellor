{
 "cells": [
  {
   "cell_type": "code",
   "execution_count": 26,
   "id": "3ea755f6-bdec-4155-b3cf-d26a50bbf69d",
   "metadata": {},
   "outputs": [],
   "source": [
    "import requests\n",
    "from dotenv import load_dotenv\n",
    "import os\n",
    "\n",
    "load_dotenv()  # This loads the variables from .env into the environment\n",
    "\n",
    "api_token=os.getenv('App_key', 'nothing detected')\n",
    "\n",
    "app_token=os.getenv('OAuth_token')\n",
    "\n",
    "\n",
    "\n",
    "\n",
    "#os.environ"
   ]
  },
  {
   "cell_type": "code",
   "execution_count": 30,
   "id": "f0e7d8ae-2453-4536-b4e0-b8c92db24a18",
   "metadata": {},
   "outputs": [
    {
     "name": "stdout",
     "output_type": "stream",
     "text": [
      "{'emails': [{'email': 'walimoh@gmail.com', 'verified': False, 'primary': True}], 'id': '200348896421', 'name': 'Wali Mohamed', 'first_name': 'Wali', 'last_name': 'Mohamed', 'is_public': False, 'image_id': None}\n"
     ]
    }
   ],
   "source": [
    "url = 'https://www.eventbriteapi.com/v3/users/me/'\n",
    "base_url='https://www.eventbriteapi.com/v3'\n",
    "headers = {\n",
    "    'Authorization': f'Bearer {app_token}'\n",
    "}\n",
    "response = requests.get(url, headers=headers)\n",
    "print(response.json())"
   ]
  },
  {
   "cell_type": "code",
   "execution_count": 28,
   "id": "d4c0e46a-e679-4f35-98ce-4004366ef937",
   "metadata": {},
   "outputs": [
    {
     "name": "stdout",
     "output_type": "stream",
     "text": [
      "Failed to retrieve events. Status Code: 404\n",
      "Error: {\"status_code\":404,\"error_description\":\"The path you requested does not exist.\",\"error\":\"NOT_FOUND\"}\n"
     ]
    }
   ],
   "source": [
    "import requests\n",
    "\n",
    "# Your API key\n",
    "api_key =os.getenv('App_key', 'nothing detected')\n",
    "\n",
    "# Set up the headers with your authentication\n",
    "headers = {\n",
    "    'Authorization': f'Bearer {api_key}',\n",
    "    'Content-Type': 'application/json'\n",
    "}\n",
    "\n",
    "# Eventbrite API endpoint for searching events\n",
    "url = 'https://www.eventbriteapi.com/v3/events/search/'\n",
    "\n",
    "# Make the GET request\n",
    "response = requests.get(url, headers=headers)\n",
    "\n",
    "# Check if the request was successful\n",
    "if response.status_code == 200:\n",
    "    # Load the event data from the response\n",
    "    events = response.json()\n",
    "    for event in events['events']:\n",
    "        print(f\"Event Name: {event['name']['text']}\")\n",
    "        print(f\"Event Description: {event['description']['text']}\")\n",
    "        print(f\"Event Start: {event['start']['local']}\")\n",
    "        print(f\"Event End: {event['end']['local']}\\n\")\n",
    "else:\n",
    "    print(f\"Failed to retrieve events. Status Code: {response.status_code}\")\n",
    "    print(f\"Error: {response.text}\")\n"
   ]
  },
  {
   "cell_type": "code",
   "execution_count": 31,
   "id": "4c70d36c-ce79-4811-8506-7989de643402",
   "metadata": {},
   "outputs": [],
   "source": [
    "import pandas as pd"
   ]
  },
  {
   "cell_type": "code",
   "execution_count": 34,
   "id": "37dec843-918e-4596-8de0-733dde944316",
   "metadata": {},
   "outputs": [],
   "source": [
    "df=pd.read_table('WikiQA-train.tsv')"
   ]
  },
  {
   "cell_type": "code",
   "execution_count": 35,
   "id": "84fc377c-83a7-4137-97a5-d6111099f6ad",
   "metadata": {},
   "outputs": [
    {
     "data": {
      "text/html": [
       "<div>\n",
       "<style scoped>\n",
       "    .dataframe tbody tr th:only-of-type {\n",
       "        vertical-align: middle;\n",
       "    }\n",
       "\n",
       "    .dataframe tbody tr th {\n",
       "        vertical-align: top;\n",
       "    }\n",
       "\n",
       "    .dataframe thead th {\n",
       "        text-align: right;\n",
       "    }\n",
       "</style>\n",
       "<table border=\"1\" class=\"dataframe\">\n",
       "  <thead>\n",
       "    <tr style=\"text-align: right;\">\n",
       "      <th></th>\n",
       "      <th>QuestionID</th>\n",
       "      <th>Question</th>\n",
       "      <th>DocumentID</th>\n",
       "      <th>DocumentTitle</th>\n",
       "      <th>SentenceID</th>\n",
       "      <th>Sentence</th>\n",
       "      <th>Label</th>\n",
       "    </tr>\n",
       "  </thead>\n",
       "  <tbody>\n",
       "    <tr>\n",
       "      <th>0</th>\n",
       "      <td>Q1</td>\n",
       "      <td>how are glacier caves formed?</td>\n",
       "      <td>D1</td>\n",
       "      <td>Glacier cave</td>\n",
       "      <td>D1-0</td>\n",
       "      <td>A partly submerged glacier cave on Perito More...</td>\n",
       "      <td>0</td>\n",
       "    </tr>\n",
       "    <tr>\n",
       "      <th>1</th>\n",
       "      <td>Q1</td>\n",
       "      <td>how are glacier caves formed?</td>\n",
       "      <td>D1</td>\n",
       "      <td>Glacier cave</td>\n",
       "      <td>D1-1</td>\n",
       "      <td>The ice facade is approximately 60 m high</td>\n",
       "      <td>0</td>\n",
       "    </tr>\n",
       "    <tr>\n",
       "      <th>2</th>\n",
       "      <td>Q1</td>\n",
       "      <td>how are glacier caves formed?</td>\n",
       "      <td>D1</td>\n",
       "      <td>Glacier cave</td>\n",
       "      <td>D1-2</td>\n",
       "      <td>Ice formations in the Titlis glacier cave</td>\n",
       "      <td>0</td>\n",
       "    </tr>\n",
       "    <tr>\n",
       "      <th>3</th>\n",
       "      <td>Q1</td>\n",
       "      <td>how are glacier caves formed?</td>\n",
       "      <td>D1</td>\n",
       "      <td>Glacier cave</td>\n",
       "      <td>D1-3</td>\n",
       "      <td>A glacier cave is a cave formed within the ice...</td>\n",
       "      <td>1</td>\n",
       "    </tr>\n",
       "    <tr>\n",
       "      <th>4</th>\n",
       "      <td>Q1</td>\n",
       "      <td>how are glacier caves formed?</td>\n",
       "      <td>D1</td>\n",
       "      <td>Glacier cave</td>\n",
       "      <td>D1-4</td>\n",
       "      <td>Glacier caves are often called ice caves , but...</td>\n",
       "      <td>0</td>\n",
       "    </tr>\n",
       "  </tbody>\n",
       "</table>\n",
       "</div>"
      ],
      "text/plain": [
       "  QuestionID                       Question DocumentID DocumentTitle  \\\n",
       "0         Q1  how are glacier caves formed?         D1  Glacier cave   \n",
       "1         Q1  how are glacier caves formed?         D1  Glacier cave   \n",
       "2         Q1  how are glacier caves formed?         D1  Glacier cave   \n",
       "3         Q1  how are glacier caves formed?         D1  Glacier cave   \n",
       "4         Q1  how are glacier caves formed?         D1  Glacier cave   \n",
       "\n",
       "  SentenceID                                           Sentence  Label  \n",
       "0       D1-0  A partly submerged glacier cave on Perito More...      0  \n",
       "1       D1-1          The ice facade is approximately 60 m high      0  \n",
       "2       D1-2          Ice formations in the Titlis glacier cave      0  \n",
       "3       D1-3  A glacier cave is a cave formed within the ice...      1  \n",
       "4       D1-4  Glacier caves are often called ice caves , but...      0  "
      ]
     },
     "execution_count": 35,
     "metadata": {},
     "output_type": "execute_result"
    }
   ],
   "source": [
    "df.head()"
   ]
  },
  {
   "cell_type": "code",
   "execution_count": 36,
   "id": "63d428d3-c787-4388-9a0f-604a2bb44187",
   "metadata": {},
   "outputs": [
    {
     "name": "stdout",
     "output_type": "stream",
     "text": [
      "<class 'pandas.core.frame.DataFrame'>\n",
      "RangeIndex: 20347 entries, 0 to 20346\n",
      "Data columns (total 7 columns):\n",
      " #   Column         Non-Null Count  Dtype \n",
      "---  ------         --------------  ----- \n",
      " 0   QuestionID     20347 non-null  object\n",
      " 1   Question       20347 non-null  object\n",
      " 2   DocumentID     20347 non-null  object\n",
      " 3   DocumentTitle  20347 non-null  object\n",
      " 4   SentenceID     20347 non-null  object\n",
      " 5   Sentence       20347 non-null  object\n",
      " 6   Label          20347 non-null  int64 \n",
      "dtypes: int64(1), object(6)\n",
      "memory usage: 1.1+ MB\n"
     ]
    }
   ],
   "source": [
    "df.info()"
   ]
  },
  {
   "cell_type": "code",
   "execution_count": 38,
   "id": "2dd78fc7-37e6-4e7a-82d0-ce01c0461f2a",
   "metadata": {},
   "outputs": [
    {
     "data": {
      "text/plain": [
       "array(['Glacier cave', 'Circular motion', 'Apollo Creed', ...,\n",
       "       'Section 8 (housing)', 'Category:Types of restaurants',\n",
       "       'History of the United States dollar'], dtype=object)"
      ]
     },
     "execution_count": 38,
     "metadata": {},
     "output_type": "execute_result"
    }
   ],
   "source": [
    "df.DocumentTitle.unique()"
   ]
  },
  {
   "cell_type": "code",
   "execution_count": null,
   "id": "100afa40-6c2e-4d12-a1ad-cc2979b21357",
   "metadata": {},
   "outputs": [],
   "source": []
  }
 ],
 "metadata": {
  "kernelspec": {
   "display_name": "Python 3 (ipykernel)",
   "language": "python",
   "name": "python3"
  },
  "language_info": {
   "codemirror_mode": {
    "name": "ipython",
    "version": 3
   },
   "file_extension": ".py",
   "mimetype": "text/x-python",
   "name": "python",
   "nbconvert_exporter": "python",
   "pygments_lexer": "ipython3",
   "version": "3.10.14"
  }
 },
 "nbformat": 4,
 "nbformat_minor": 5
}
