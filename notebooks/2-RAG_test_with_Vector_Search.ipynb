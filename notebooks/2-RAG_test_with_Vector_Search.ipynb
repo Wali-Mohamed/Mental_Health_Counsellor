{
 "cells": [
  {
   "cell_type": "code",
   "execution_count": 6,
   "id": "10a41604-4f5f-431c-a0b3-9f938eca40fd",
   "metadata": {},
   "outputs": [],
   "source": [
    "# Import libraries and modules\n",
    "import pandas as pd\n",
    "import minsearch\n",
    "from tqdm.auto import tqdm\n",
    "from openai import OpenAI\n",
    "from sentence_transformers import SentenceTransformer\n",
    "import pickle"
   ]
  },
  {
   "cell_type": "code",
   "execution_count": null,
   "id": "6cddd153-a8ed-4b67-8d10-91371853088a",
   "metadata": {},
   "outputs": [],
   "source": []
  },
  {
   "cell_type": "markdown",
   "id": "ad48af0c-8025-4c40-9950-63317b7e06cd",
   "metadata": {},
   "source": [
    "### Step 1: Prepare documents"
   ]
  },
  {
   "cell_type": "code",
   "execution_count": 7,
   "id": "61e669a7-2c37-4bff-9f23-a8db73027f33",
   "metadata": {},
   "outputs": [],
   "source": [
    "# import data\n",
    "df=pd.read_csv('../App/data/Mental_Health_FAQ.csv')"
   ]
  },
  {
   "cell_type": "code",
   "execution_count": 8,
   "id": "1befd4d9-04df-49d0-ab4a-830303a04792",
   "metadata": {},
   "outputs": [],
   "source": [
    "documents=df.to_dict(orient='records')"
   ]
  },
  {
   "cell_type": "code",
   "execution_count": 9,
   "id": "5fdb604c-84b4-4247-a8e4-634940eb8f95",
   "metadata": {},
   "outputs": [
    {
     "data": {
      "text/plain": [
       "98"
      ]
     },
     "execution_count": 9,
     "metadata": {},
     "output_type": "execute_result"
    }
   ],
   "source": [
    "len(documents)"
   ]
  },
  {
   "cell_type": "code",
   "execution_count": 10,
   "id": "8f329a10-1320-4679-9bec-d0e717b185ec",
   "metadata": {},
   "outputs": [
    {
     "data": {
      "text/plain": [
       "{'Question_ID': 1590140,\n",
       " 'Questions': 'What does it mean to have a mental illness?',\n",
       " 'Answers': 'Mental illnesses are health conditions that disrupt a personâ€™s thoughts, emotions, relationships, and daily functioning. They are associated with distress and diminished capacity to engage in the ordinary activities of daily life.\\nMental illnesses fall along a continuum of severity: some are fairly mild and only interfere with some aspects of life, such as certain phobias. On the other end of the spectrum lie serious mental illnesses, which result in major functional impairment and interference with daily life. These include such disorders as major depression, schizophrenia, and bipolar disorder, and may require that the person receives care in a hospital.\\nIt is important to know that mental illnesses are medical conditions that have nothing to do with a personâ€™s character, intelligence, or willpower. Just as diabetes is a disorder of the pancreas, mental illness is a medical condition due to the brainâ€™s biology.\\nSimilarly to how one would treat diabetes with medication and insulin, mental illness is treatable with a combination of medication and social support. These treatments are highly effective, with 70-90 percent of individuals receiving treatment experiencing a reduction in symptoms and an improved quality of life. With the proper treatment, it is very possible for a person with mental illness to be independent and successful.'}"
      ]
     },
     "execution_count": 10,
     "metadata": {},
     "output_type": "execute_result"
    }
   ],
   "source": [
    "documents[0]"
   ]
  },
  {
   "cell_type": "markdown",
   "id": "b48827c1-c069-4e3a-a782-a7c076d56381",
   "metadata": {},
   "source": [
    "### Step 2: Create Embeddings using Pretrained Models\n",
    "\n",
    "Sentence Transformers documentation here: https://www.sbert.net/docs/sentence_transformer/pretrained_models.html"
   ]
  },
  {
   "cell_type": "code",
   "execution_count": 15,
   "id": "d5eea7fb-6f75-4873-88d0-274b2a1bba27",
   "metadata": {},
   "outputs": [
    {
     "name": "stderr",
     "output_type": "stream",
     "text": [
      "C:\\Users\\user\\miniconda3\\envs\\llm\\lib\\site-packages\\transformers\\tokenization_utils_base.py:1601: FutureWarning: `clean_up_tokenization_spaces` was not set. It will be set to `True` by default. This behavior will be depracted in transformers v4.45, and will be then set to `False` by default. For more details check this issue: https://github.com/huggingface/transformers/issues/31884\n",
      "  warnings.warn(\n"
     ]
    }
   ],
   "source": [
    "### Transformer download\n",
    "model= SentenceTransformer('all-mpnet-base-v2')\n"
   ]
  },
  {
   "cell_type": "code",
   "execution_count": 16,
   "id": "d55e6fba-2956-4e75-ba5f-aa6e12331f38",
   "metadata": {},
   "outputs": [
    {
     "data": {
      "text/plain": [
       "768"
      ]
     },
     "execution_count": 16,
     "metadata": {},
     "output_type": "execute_result"
    }
   ],
   "source": [
    "\n",
    "len(model.encode(\"This is a simple sentence\"))"
   ]
  },
  {
   "cell_type": "code",
   "execution_count": 17,
   "id": "b613c8c7-2d53-4b4e-ae7c-21cf88b426cd",
   "metadata": {},
   "outputs": [
    {
     "data": {
      "application/vnd.jupyter.widget-view+json": {
       "model_id": "d0a0467e04f447c0a770d13c74da5b6a",
       "version_major": 2,
       "version_minor": 0
      },
      "text/plain": [
       "  0%|          | 0/98 [00:00<?, ?it/s]"
      ]
     },
     "metadata": {},
     "output_type": "display_data"
    }
   ],
   "source": [
    "#created the dense vector using the pre-trained model\n",
    "data = []\n",
    "for doc in tqdm(documents):\n",
    "    # Transforming the title into an embedding using the model\n",
    "    doc[\"text_vector\"] = model.encode(doc[\"Answers\"]).tolist()\n",
    "    data.append(doc)"
   ]
  },
  {
   "cell_type": "code",
   "execution_count": 18,
   "id": "9b12a0b0-b950-45bc-a751-c25117d107b5",
   "metadata": {},
   "outputs": [
    {
     "data": {
      "text/plain": [
       "768"
      ]
     },
     "execution_count": 18,
     "metadata": {},
     "output_type": "execute_result"
    }
   ],
   "source": [
    "# documents[0]\n",
    "len(data[0]['text_vector'])"
   ]
  },
  {
   "cell_type": "markdown",
   "id": "518865a1-5d37-4391-83d7-63c4883110a8",
   "metadata": {},
   "source": [
    "### Step 3a: Setup Lancedb connection"
   ]
  },
  {
   "cell_type": "code",
   "execution_count": 19,
   "id": "41980eb0-05b3-40cf-8d32-315b971b1b48",
   "metadata": {},
   "outputs": [],
   "source": [
    "#documents[0]   why has the document been changed"
   ]
  },
  {
   "cell_type": "code",
   "execution_count": 20,
   "id": "71d227ad-bad2-4a1b-8f5d-0e162418d74a",
   "metadata": {},
   "outputs": [
    {
     "name": "stdout",
     "output_type": "stream",
     "text": [
      "Data saved to pickle file successfully.\n"
     ]
    }
   ],
   "source": [
    "# Save the list of dictionaries to a pickle file\n",
    "with open('../App/data/lancedb_vector_search.pkl', 'wb') as file:\n",
    "    pickle.dump(data, file)\n",
    "\n",
    "print(\"Data saved to pickle file successfully.\")"
   ]
  },
  {
   "cell_type": "code",
   "execution_count": 21,
   "id": "ca29f6c4-5f7c-4877-87c3-7dad5b2b1831",
   "metadata": {},
   "outputs": [
    {
     "data": {
      "text/plain": [
       "True"
      ]
     },
     "execution_count": 21,
     "metadata": {},
     "output_type": "execute_result"
    }
   ],
   "source": [
    "#len(embeddings)\n",
    "len(documents)\n",
    "documents==data\n",
    "#data[0]"
   ]
  },
  {
   "cell_type": "markdown",
   "id": "4b403eef-f4bb-46df-8a8d-6351f4913558",
   "metadata": {},
   "source": [
    "## Step 4: Create Mappings and Index with LancedDB"
   ]
  },
  {
   "cell_type": "code",
   "execution_count": 23,
   "id": "037274fa-7e6a-4294-9c2a-7a357d61b42d",
   "metadata": {},
   "outputs": [],
   "source": [
    "import lancedb\n",
    "import pyarrow as pa\n",
    "\n",
    "# Connect to LanceDB\n",
    "db = lancedb.connect(\"../App/data/lancedb\")\n",
    "\n",
    "# Define the schema for the table (example: text and embedding columns)\n",
    "schema = pa.schema([\n",
    "    (\"Question_ID\", pa.int64()), \n",
    "    (\"Questions\", pa.string()),               # Text column for storing document questions\n",
    "    (\"Answers\", pa.string()),             #Text column for storing documents answers\n",
    "    (\"text_vector\", pa.list_(pa.float32(),768))   # Fixed-size list for vectors# \n",
    "])\n",
    "\n",
    "\n",
    "\n",
    "# # Create the table with the schema, even if there's no data\n",
    "# table = db.create_table(\"mental_health_table\", \n",
    "#                         schema=schema, \n",
    "#                         mode='overwrite'\n",
    "#                        )\n",
    "\n",
    "# # Print message to confirm table creation\n",
    "# print(\"Empty table created successfully!\")\n",
    "\n",
    "\n"
   ]
  },
  {
   "cell_type": "code",
   "execution_count": 24,
   "id": "4dbcdfd7-b148-4ffb-af54-73383e77cc30",
   "metadata": {},
   "outputs": [
    {
     "name": "stdout",
     "output_type": "stream",
     "text": [
      "Question_ID: int64\n",
      "Questions: string\n",
      "Answers: string\n",
      "text_vector: fixed_size_list<item: float>[768]\n",
      "  child 0, item: float\n"
     ]
    }
   ],
   "source": [
    "# Assuming you've already connected to the database and created/opened a table\n",
    "db = lancedb.connect(\"../App/data/lancedb\")\n",
    "\n",
    "# Open the existing table (replace \"my_vector_table\" with your actual table name)\n",
    "table = db.open_table(\"mental_health_table\")\n",
    "\n",
    "# Get the schema of the table\n",
    "schema = table.schema\n",
    "\n",
    "# Print the schema to see the fields and their data types\n",
    "print(schema)\n"
   ]
  },
  {
   "cell_type": "code",
   "execution_count": null,
   "id": "2bc746ea-194f-406a-8f4a-17ad0c2e48ef",
   "metadata": {},
   "outputs": [],
   "source": []
  },
  {
   "cell_type": "code",
   "execution_count": 25,
   "id": "fdcc9d10-bcf4-4695-b2e2-4a35b4b9936c",
   "metadata": {},
   "outputs": [],
   "source": [
    "# add data to table\n",
    "table.add(data)\n"
   ]
  },
  {
   "cell_type": "code",
   "execution_count": 34,
   "id": "bbb2b04e-62ce-4ad4-a12e-1d2195820472",
   "metadata": {},
   "outputs": [],
   "source": [
    "### performing a vector search"
   ]
  },
  {
   "cell_type": "code",
   "execution_count": 26,
   "id": "c4009a42-ae11-48e7-95bb-d46bc93f1f80",
   "metadata": {},
   "outputs": [],
   "source": [
    "def lancedb_search(query_text, nprobes=10, refine_factor=2, k=5):\n",
    "    # Generate the embedding for the query using your model\n",
    "    query_embedding = model.encode([query_text])[0]\n",
    "    \n",
    "    # Perform the vector search in LanceDB with nprobes and refine_factor\n",
    "    results = table.search(query_embedding, vector_column_name=\"text_vector\") \\\n",
    "        .nprobes(nprobes) \\\n",
    "        .refine_factor(refine_factor) \\\n",
    "        .limit(k) \\\n",
    "        .to_pandas()\n",
    "     # Extract the documents and their ids from the search results\n",
    "    retrieved_docs = results[['Question_ID', 'Questions','Answers']].to_dict(orient='records')  # Convert DataFrame to list of dictionaries\n",
    "    \n",
    "    return retrieved_docs\n",
    "\n",
    "# # Example usage with the query text\n",
    "# query_text = \"some health-related query\"\n",
    "# search_results = lancedb_search(query_text, nprobes=20, refine_factor=3, k=5)\n",
    "\n",
    "# print(search_results)\n"
   ]
  },
  {
   "cell_type": "code",
   "execution_count": 27,
   "id": "68cf9ab0-6d68-4027-b64e-a34a056022b8",
   "metadata": {},
   "outputs": [
    {
     "data": {
      "text/plain": [
       "[{'Question_ID': 9434130,\n",
       "  'Questions': 'What are some of the warning signs of mental illness?',\n",
       "  'Answers': 'Symptoms of mental health disorders vary depending on the type and severity of the condition. The following is a list of general symptoms that may suggest a mental health disorder, particularly when multiple symptoms are expressed at once.\\nIn adults:\\nConfused thinking\\nLong-lasting sadness or irritability\\nExtreme highs and lows in mood\\nExcessive fear, worrying, or anxiety\\nSocial withdrawal\\nDramatic changes in eating or sleeping habits\\nStrong feelings of anger\\nDelusions or hallucinations (seeing or hearing things that are not really there)\\nIncreasing inability to cope with daily problems and activities\\nThoughts of suicide\\nDenial of obvious problems\\nMany unexplained physical problems\\nAbuse of drugs and/or alcohol\\n  In older children and pre-teens:\\nAbuse of drugs and/or alcohol\\nInability to cope with daily problems and activities\\nChanges in sleeping and/or eating habits\\nExcessive complaints of physical problems\\nDefying authority, skipping school, stealing, or damaging property\\nIntense fear of gaining weight\\nLong-lasting negative mood, often along with poor appetite and thoughts of death\\nFrequent outbursts of anger\\n  In younger children:\\nChanges in school performance\\nPoor grades despite strong efforts\\nExcessive worrying or anxiety\\nHyperactivity\\nPersistent nightmares\\nPersistent disobedience and/or aggressive behavior\\nFrequent temper tantrums'},\n",
       " {'Question_ID': 1590140,\n",
       "  'Questions': 'What does it mean to have a mental illness?',\n",
       "  'Answers': 'Mental illnesses are health conditions that disrupt a personâ€™s thoughts, emotions, relationships, and daily functioning. They are associated with distress and diminished capacity to engage in the ordinary activities of daily life.\\nMental illnesses fall along a continuum of severity: some are fairly mild and only interfere with some aspects of life, such as certain phobias. On the other end of the spectrum lie serious mental illnesses, which result in major functional impairment and interference with daily life. These include such disorders as major depression, schizophrenia, and bipolar disorder, and may require that the person receives care in a hospital.\\nIt is important to know that mental illnesses are medical conditions that have nothing to do with a personâ€™s character, intelligence, or willpower. Just as diabetes is a disorder of the pancreas, mental illness is a medical condition due to the brainâ€™s biology.\\nSimilarly to how one would treat diabetes with medication and insulin, mental illness is treatable with a combination of medication and social support. These treatments are highly effective, with 70-90 percent of individuals receiving treatment experiencing a reduction in symptoms and an improved quality of life. With the proper treatment, it is very possible for a person with mental illness to be independent and successful.'},\n",
       " {'Question_ID': 6085633,\n",
       "  'Questions': \"What's the difference between psychosis and schizophrenia?\",\n",
       "  'Answers': 'Psychosis is a syndrome or group of symptoms. Someone experiencing an episode of psychosis is having a ‘break’ with reality. Major symptoms of psychosis are hallucinations and delusions. Hallucinations are sensations that are not real, such as hearing voices or sounds that aren’t real. Hearing voices is a common hallucination, but hallucinations can be experiences with any sense—hearing, sight, smell, taste, or touch. Delusions are strong beliefs that can’t possibly be true. Common delusions include the belief that someone is following or monitoring you, or the belief that you have extraordinary powers or abilities. Other symptoms of psychosis include difficulties concentrating, completing tasks, or making decisions. Thoughts may feel ‘jumbled’ or confused. Some people have a hard time following conversations or speaking clearly. Psychosis can even affect the way people move or express their emotions. \\n Schizophrenia is a mental illness that causes psychosis, but schizophrenia also has other symptoms. And it isn’t the only cause of psychosis. In some cases, other mental illnesses cause psychosis, including depression, bipolar disorder, dementia and borderline personality disorder. Psychosis may come up during times of extreme stress, a major lack of sleep, or trauma. People who are using or withdrawing from certain drugs or medications may experience psychosis. Psychosis may also be caused by a brain injury, neurological problem, or other health problem. So while psychosis can be a part of schizophrenia, it can be caused by many other things too. \\n Psychosis and schizophrenia are treatable. It’s important to seek help as soon as possible.'},\n",
       " {'Question_ID': 1619387,\n",
       "  'Questions': 'What should I do if I know someone who appears to have the symptoms of a mental disorder?',\n",
       "  'Answers': \"Although this website cannot substitute for professional advice, we encourage those with symptoms to talk to their friends and family members and seek the counsel of a mental health professional. The sooner the mental health condition is identified and treated, the sooner they can get on the path to recovery.\\nIf you know someone who is having problems, don't assume that the issue will resolve itself. Let them know that you care about them, and that there are treatment options available that will help them heal. Speak with a mental health professional or counselor if you think your friend or family member is experiencing the symptoms of a mental health condition. If the affected loved one knows that you support them, they will be more likely to seek out help.\"},\n",
       " {'Question_ID': 6361820,\n",
       "  'Questions': 'What causes mental illness?',\n",
       "  'Answers': 'It is estimated that mental illness affects 1 in 5 adults in America, and that 1 in 24 adults have a serious mental illness. Mental illness does not discriminate; it can affect anyone, regardless of gender, age, income, social status, ethnicity, religion, sexual orientation, or background. Although mental illness can affect anyone, certain conditions may be more common in different populations. For instance, eating disorders tend to occur more often in females, while disorders such as attention deficit/hyperactivity disorder is more prevalent in children. Additionally, all ages are susceptible, but the young and the old are especially vulnerable. Mental illnesses usually strike individuals in the prime of their lives, with 75 percent of mental health conditions developing by the age of 24. This makes identification and treatment of mental disorders particularly difficult, because the normal personality and behavioral changes of adolescence may mask symptoms of a mental health condition. Parents and caretakers should be aware of this fact, and take notice of changes in their child’s mood, personality, personal habits, and social withdrawal. When these occur in children under 18, they are referred to as serious emotional disturbances (SEDs).'}]"
      ]
     },
     "execution_count": 27,
     "metadata": {},
     "output_type": "execute_result"
    }
   ],
   "source": [
    "lancedb_search('What are the symptoms of mental illness?')"
   ]
  },
  {
   "cell_type": "code",
   "execution_count": 28,
   "id": "c0c971e8-eb64-407d-8e02-5cbe27b6ecea",
   "metadata": {},
   "outputs": [],
   "source": [
    "## Retrieval Evaluation with lancedb semantic vector search"
   ]
  },
  {
   "cell_type": "code",
   "execution_count": 29,
   "id": "2f0c546f-e0e5-4243-ab02-ec4b2e00ac32",
   "metadata": {},
   "outputs": [],
   "source": [
    "df=pd.read_csv('../App/data/ground-truth-data.csv')"
   ]
  },
  {
   "cell_type": "code",
   "execution_count": 30,
   "id": "96368cd0-3700-496b-af8f-54d92056df45",
   "metadata": {},
   "outputs": [
    {
     "data": {
      "text/plain": [
       "485"
      ]
     },
     "execution_count": 30,
     "metadata": {},
     "output_type": "execute_result"
    }
   ],
   "source": [
    "ground_truth=df.to_dict(orient='records')\n",
    "ground_truth[0]\n",
    "len(ground_truth)"
   ]
  },
  {
   "cell_type": "code",
   "execution_count": 31,
   "id": "2b7bce9c-94be-4e41-8e9f-0ded6989787f",
   "metadata": {},
   "outputs": [],
   "source": [
    "def hit_rate(relevance_total):\n",
    "    cnt = 0\n",
    "\n",
    "    for line in relevance_total:\n",
    "        if True in line:\n",
    "            cnt = cnt + 1\n",
    "\n",
    "    return cnt / len(relevance_total)"
   ]
  },
  {
   "cell_type": "code",
   "execution_count": 32,
   "id": "ce63152f-1b8d-4261-b7c2-b06758884ee2",
   "metadata": {},
   "outputs": [],
   "source": [
    "def mrr(relevance_total):\n",
    "    total_score = 0.0\n",
    "\n",
    "    for line in relevance_total:\n",
    "        for rank in range(len(line)):\n",
    "            if line[rank] == True:\n",
    "                total_score = total_score + 1 / (rank + 1)\n",
    "\n",
    "    return total_score / len(relevance_total)"
   ]
  },
  {
   "cell_type": "code",
   "execution_count": 33,
   "id": "f33f1d3d-fd11-4afb-9d6c-437727d1f60d",
   "metadata": {},
   "outputs": [],
   "source": [
    "def evaluate(ground_truth, search_function):\n",
    "    relevance_total = []\n",
    "\n",
    "    for q in tqdm(ground_truth):\n",
    "        doc_id = q['id']\n",
    "        results = search_function(q)\n",
    "        relevance = [d['Question_ID'] == doc_id for d in results]\n",
    "        relevance_total.append(relevance)\n",
    "\n",
    "    return {\n",
    "        'hit_rate': hit_rate(relevance_total),\n",
    "        'mrr': mrr(relevance_total),\n",
    "    }"
   ]
  },
  {
   "cell_type": "code",
   "execution_count": 34,
   "id": "8771b001-77a1-4a74-875d-a1c7b9a44fa0",
   "metadata": {},
   "outputs": [
    {
     "name": "stdout",
     "output_type": "stream",
     "text": [
      "<function <lambda> at 0x000002BF11B9EF80>\n"
     ]
    },
    {
     "data": {
      "text/plain": [
       "1590140"
      ]
     },
     "execution_count": 34,
     "metadata": {},
     "output_type": "execute_result"
    }
   ],
   "source": [
    "fun=lambda q:q['id']\n",
    "print(fun)\n",
    "fun(ground_truth[0])\n"
   ]
  },
  {
   "cell_type": "code",
   "execution_count": 35,
   "id": "713dea34-6198-47c4-bee7-246962d5f44c",
   "metadata": {},
   "outputs": [
    {
     "data": {
      "application/vnd.jupyter.widget-view+json": {
       "model_id": "8874d9b1713040b4969f5f5fc4dbbedb",
       "version_major": 2,
       "version_minor": 0
      },
      "text/plain": [
       "  0%|          | 0/485 [00:00<?, ?it/s]"
      ]
     },
     "metadata": {},
     "output_type": "display_data"
    },
    {
     "data": {
      "text/plain": [
       "{'hit_rate': 0.954639175257732, 'mrr': 0.7636630666012109}"
      ]
     },
     "execution_count": 35,
     "metadata": {},
     "output_type": "execute_result"
    }
   ],
   "source": [
    "evaluate(ground_truth, lambda q: lancedb_search(q['question'],nprobes=5, refine_factor=5, k=10))"
   ]
  },
  {
   "cell_type": "markdown",
   "id": "433a6cc1-dd75-4b64-92a5-373495427fbe",
   "metadata": {},
   "source": [
    "### Step 3b Setup Elasticsearch Connection"
   ]
  },
  {
   "cell_type": "code",
   "execution_count": 73,
   "id": "55bdcb7b-ba6a-4bf6-8c92-efe59d9a2dcf",
   "metadata": {},
   "outputs": [
    {
     "data": {
      "text/plain": [
       "ObjectApiResponse({'name': 'b7b3d653cd0a', 'cluster_name': 'docker-cluster', 'cluster_uuid': 'EYVcJd1UQ-emitJRCfIzug', 'version': {'number': '8.4.3', 'build_flavor': 'default', 'build_type': 'docker', 'build_hash': '42f05b9372a9a4a470db3b52817899b99a76ee73', 'build_date': '2022-10-04T07:17:24.662462378Z', 'build_snapshot': False, 'lucene_version': '9.3.0', 'minimum_wire_compatibility_version': '7.17.0', 'minimum_index_compatibility_version': '7.0.0'}, 'tagline': 'You Know, for Search'})"
      ]
     },
     "execution_count": 73,
     "metadata": {},
     "output_type": "execute_result"
    }
   ],
   "source": [
    "from elasticsearch import Elasticsearch\n",
    "es_client = Elasticsearch('http://localhost:9200') \n",
    "\n",
    "es_client.info()"
   ]
  },
  {
   "cell_type": "markdown",
   "id": "90b5e4fd-f29f-45ff-a97c-378ec21db596",
   "metadata": {},
   "source": [
    "## Step 4: Create Mappings and Index\n",
    "\n",
    "- Mapping is the process of defining how a document, and the fields it contains, are stored and indexed.\n",
    "\n",
    "- Each document is a collection of fields, which each have their own data type.\n",
    "\n",
    "- We can compare mapping to a database schema in how it describes the fields and properties that documents hold, the datatype of each field (e.g., string, integer, or date), and how those fields should be indexed and stored"
   ]
  },
  {
   "cell_type": "code",
   "execution_count": 139,
   "id": "cd4f2e74-eeae-49b2-8bfd-26f21f5a4ad6",
   "metadata": {},
   "outputs": [],
   "source": [
    "index_settings={\n",
    "              \"settings\": {\n",
    "                \"number_of_shards\": 1,\n",
    "                \"number_of_replicas\": 0\n",
    "              },\n",
    "              \"mappings\": {\n",
    "                \"properties\": {\n",
    "                  \"Question_ID\": {\n",
    "                    \"type\": \"integer\"\n",
    "                  },\n",
    "                  \"Questions\": {\n",
    "                    \"type\": \"text\"\n",
    "                  },\n",
    "                  \"Answers\": {\n",
    "                    \"type\": \"text\"\n",
    "                  },\n",
    "                  \"question_vector\": {\n",
    "                    \"type\": \"dense_vector\",\n",
    "                    \"dims\": 768, # Ensure this matches the dimensions of your vectors\n",
    "                    \"index\": True,\n",
    "                    \"similarity\": \"cosine\"\n",
    "                  },\n",
    "                  \"answer_vector\": {\n",
    "                    \"type\": \"dense_vector\",\n",
    "                    \"dims\": 768,\n",
    "                    \"index\": True,\n",
    "                    \"similarity\": \"cosine\"\n",
    "                  },\n",
    "                 \"question_answer_vector\": {\n",
    "                    \"type\": \"dense_vector\",\n",
    "                    \"dims\": 768,\n",
    "                    \"index\": True,\n",
    "                    \"similarity\": \"cosine\"\n",
    "                  }\n",
    "                }\n",
    "              }\n",
    "            }"
   ]
  },
  {
   "cell_type": "code",
   "execution_count": 140,
   "id": "90d7ef83-e085-4365-8261-c24346a2e0e3",
   "metadata": {},
   "outputs": [
    {
     "data": {
      "text/plain": [
       "ObjectApiResponse({'acknowledged': True, 'shards_acknowledged': True, 'index': 'mental-health-questions'})"
      ]
     },
     "execution_count": 140,
     "metadata": {},
     "output_type": "execute_result"
    }
   ],
   "source": [
    "index_name = \"mental-health-questions\"\n",
    "\n",
    "es_client.indices.delete(index=index_name, ignore_unavailable=True)\n",
    "es_client.indices.create(index=index_name, body=index_settings)"
   ]
  },
  {
   "cell_type": "markdown",
   "id": "05031733-9635-4906-b2a8-c1fa5c684f1e",
   "metadata": {},
   "source": [
    "### Step 5: Add documents into index"
   ]
  },
  {
   "cell_type": "code",
   "execution_count": 107,
   "id": "b16a798f-0a4b-4bf1-ac6b-795ba21762c8",
   "metadata": {},
   "outputs": [
    {
     "data": {
      "application/vnd.jupyter.widget-view+json": {
       "model_id": "d2be00c24af14da2a5ee5e64085f5c6d",
       "version_major": 2,
       "version_minor": 0
      },
      "text/plain": [
       "  0%|          | 0/98 [00:00<?, ?it/s]"
      ]
     },
     "metadata": {},
     "output_type": "display_data"
    }
   ],
   "source": [
    "for doc in tqdm(documents):\n",
    "    question = doc['Questions']\n",
    "    text = doc['Answers']\n",
    "    qt = question + ' ' + text\n",
    "\n",
    "    doc['question_vector'] = model.encode(question)\n",
    "    doc['answer_vector'] = model.encode(text)\n",
    "    doc['question_answer_vector'] = model.encode(qt)"
   ]
  },
  {
   "cell_type": "code",
   "execution_count": 141,
   "id": "c85702a3-0824-4250-87ac-c7d362f9aa38",
   "metadata": {},
   "outputs": [
    {
     "data": {
      "text/plain": [
       "dict_keys(['Question_ID', 'Questions', 'Answers', 'question_vector', 'answer_vector', 'question_answer_vector'])"
      ]
     },
     "execution_count": 141,
     "metadata": {},
     "output_type": "execute_result"
    }
   ],
   "source": [
    "documents[0].keys()"
   ]
  },
  {
   "cell_type": "code",
   "execution_count": 142,
   "id": "51f794ae-72b5-4e8c-abbc-118885f2d358",
   "metadata": {},
   "outputs": [],
   "source": [
    "for doc in documents:\n",
    "    try:\n",
    "        es_client.index(index=index_name, document=doc)\n",
    "    except Exception as e:\n",
    "        print(e)"
   ]
  },
  {
   "cell_type": "markdown",
   "id": "a90a73a5-85dc-40dd-bee2-d4696abdad54",
   "metadata": {},
   "source": [
    "### Step 6: Create end user query"
   ]
  },
  {
   "cell_type": "code",
   "execution_count": 143,
   "id": "002e4295-4601-46b7-8769-cc7fcbbea14d",
   "metadata": {},
   "outputs": [],
   "source": [
    "search_term = \"is there a cure for mental illness?\"\n",
    "vector_search_term = model.encode(search_term)"
   ]
  },
  {
   "cell_type": "code",
   "execution_count": 144,
   "id": "ec613da2-890a-43a1-bc17-7fba62e59164",
   "metadata": {},
   "outputs": [],
   "source": [
    "def elastic_search_knn(field, vector):\n",
    "    knn = {\n",
    "        \"field\": field,\n",
    "        \"query_vector\": vector,\n",
    "        \"k\": 5,\n",
    "        \"num_candidates\": 10000,\n",
    "       \n",
    "    }\n",
    "\n",
    "    search_query = {\n",
    "        \"knn\": knn,\n",
    "        \"_source\": [\"Question_ID\", \"Questions\", \"Answers\"]\n",
    "    }\n",
    "\n",
    "    es_results = es_client.search(\n",
    "        index=index_name,\n",
    "        body=search_query\n",
    "    )\n",
    "    \n",
    "    result_docs = []\n",
    "    \n",
    "    for hit in es_results['hits']['hits']:\n",
    "        result_docs.append(hit['_source'])\n",
    "\n",
    "    return result_docs "
   ]
  },
  {
   "cell_type": "code",
   "execution_count": 145,
   "id": "1e661251-a23a-4a32-bf78-5fc066b63396",
   "metadata": {},
   "outputs": [],
   "source": [
    "def question_vector_knn(q):\n",
    "    question = q['question']\n",
    "    \n",
    "\n",
    "    v_q = model.encode(question)\n",
    "\n",
    "    return elastic_search_knn('question_vector', v_q)"
   ]
  },
  {
   "cell_type": "code",
   "execution_count": null,
   "id": "43694069-1db3-4aac-89e0-620dd21376d1",
   "metadata": {},
   "outputs": [],
   "source": []
  },
  {
   "cell_type": "code",
   "execution_count": 146,
   "id": "e816cc24-33da-42c6-97cd-69bd900d4693",
   "metadata": {},
   "outputs": [],
   "source": [
    "def answer_vector_knn(q):\n",
    "    question = q['question']\n",
    "    \n",
    "\n",
    "    v_q = model.encode(question)\n",
    "\n",
    "    return elastic_search_knn('answer_vector', v_q)\n"
   ]
  },
  {
   "cell_type": "code",
   "execution_count": 147,
   "id": "be5f3e69-e659-4204-a2be-c98139561f8a",
   "metadata": {},
   "outputs": [],
   "source": [
    "def question_answer_vector_knn(q):\n",
    "    question = q['question']\n",
    "    \n",
    "\n",
    "    v_q = model.encode(question)\n",
    "\n",
    "    return elastic_search_knn('question_answer_vector', v_q)\n"
   ]
  },
  {
   "cell_type": "code",
   "execution_count": 148,
   "id": "12f3ce28-6a1c-4a24-928c-40f2a39ed8e7",
   "metadata": {},
   "outputs": [
    {
     "data": {
      "application/vnd.jupyter.widget-view+json": {
       "model_id": "b0a2b70c76d84694b3cb83bcf4af0287",
       "version_major": 2,
       "version_minor": 0
      },
      "text/plain": [
       "  0%|          | 0/485 [00:00<?, ?it/s]"
      ]
     },
     "metadata": {},
     "output_type": "display_data"
    },
    {
     "data": {
      "text/plain": [
       "{'hit_rate': 0.7134020618556701, 'mrr': 0.5273883161512031}"
      ]
     },
     "execution_count": 148,
     "metadata": {},
     "output_type": "execute_result"
    }
   ],
   "source": [
    "evaluate(ground_truth, question_vector_knn)"
   ]
  },
  {
   "cell_type": "code",
   "execution_count": 149,
   "id": "17c969b2-6368-45bc-aea3-eb80375194d2",
   "metadata": {},
   "outputs": [
    {
     "data": {
      "application/vnd.jupyter.widget-view+json": {
       "model_id": "13737e122201440fa6cdf7fd3f4797f4",
       "version_major": 2,
       "version_minor": 0
      },
      "text/plain": [
       "  0%|          | 0/485 [00:00<?, ?it/s]"
      ]
     },
     "metadata": {},
     "output_type": "display_data"
    },
    {
     "data": {
      "text/plain": [
       "{'hit_rate': 0.8948453608247423, 'mrr': 0.7554639175257732}"
      ]
     },
     "execution_count": 149,
     "metadata": {},
     "output_type": "execute_result"
    }
   ],
   "source": [
    "evaluate(ground_truth, answer_vector_knn)"
   ]
  },
  {
   "cell_type": "code",
   "execution_count": 150,
   "id": "f0426496-9d69-4f11-93d4-05226e8c66b6",
   "metadata": {},
   "outputs": [
    {
     "data": {
      "application/vnd.jupyter.widget-view+json": {
       "model_id": "07755e0c2de241b6b39eaa5f7d915df0",
       "version_major": 2,
       "version_minor": 0
      },
      "text/plain": [
       "  0%|          | 0/485 [00:00<?, ?it/s]"
      ]
     },
     "metadata": {},
     "output_type": "display_data"
    },
    {
     "data": {
      "text/plain": [
       "{'hit_rate': 0.8742268041237113, 'mrr': 0.7168728522336769}"
      ]
     },
     "execution_count": 150,
     "metadata": {},
     "output_type": "execute_result"
    }
   ],
   "source": [
    "evaluate(ground_truth, question_answer_vector_knn)"
   ]
  },
  {
   "cell_type": "code",
   "execution_count": null,
   "id": "fcefadab-9b1c-4d46-a9d2-8e5843408d5d",
   "metadata": {},
   "outputs": [],
   "source": [
    "# answer_vector performed best "
   ]
  },
  {
   "cell_type": "markdown",
   "id": "db0ac3d6-d23f-46e4-aacd-cbef010899e9",
   "metadata": {},
   "source": [
    "## Perform Keyword search with Semantic Search (Hybrid/Advanced Search)"
   ]
  },
  {
   "cell_type": "code",
   "execution_count": null,
   "id": "88e54afa-5859-4f9a-9e04-1c13da2dc08f",
   "metadata": {},
   "outputs": [],
   "source": []
  },
  {
   "cell_type": "code",
   "execution_count": null,
   "id": "46162f5b-e6f4-4918-8e21-085d5f6ea059",
   "metadata": {},
   "outputs": [],
   "source": []
  },
  {
   "cell_type": "code",
   "execution_count": null,
   "id": "63ee259c-cc4e-4e74-afa0-3394d2c5be37",
   "metadata": {},
   "outputs": [],
   "source": []
  },
  {
   "cell_type": "code",
   "execution_count": null,
   "id": "dc2139d9-2834-4b35-8916-68881465c53d",
   "metadata": {},
   "outputs": [],
   "source": []
  },
  {
   "cell_type": "code",
   "execution_count": null,
   "id": "e887b0e4-76de-409a-8cee-96d6038325f9",
   "metadata": {},
   "outputs": [],
   "source": []
  },
  {
   "cell_type": "code",
   "execution_count": null,
   "id": "ddb84969-c97d-4b33-8aa7-f4fcd17488e6",
   "metadata": {},
   "outputs": [],
   "source": []
  },
  {
   "cell_type": "code",
   "execution_count": null,
   "id": "b1562ff8-332c-40a5-853a-1f53f001220e",
   "metadata": {},
   "outputs": [],
   "source": []
  },
  {
   "cell_type": "markdown",
   "id": "8ecd1e07-9197-472c-8837-6be8f9c2ba01",
   "metadata": {},
   "source": [
    "### RAG Evaluation with semantic search"
   ]
  },
  {
   "cell_type": "code",
   "execution_count": 1,
   "id": "47b1921f-90fe-4aef-8d3e-ece131f09dd1",
   "metadata": {},
   "outputs": [
    {
     "data": {
      "text/plain": [
       "True"
      ]
     },
     "execution_count": 1,
     "metadata": {},
     "output_type": "execute_result"
    }
   ],
   "source": [
    "from dotenv import load_dotenv\n",
    "import os\n",
    "\n",
    "load_dotenv()  # This loads the variables from .env into the environment"
   ]
  },
  {
   "cell_type": "code",
   "execution_count": 2,
   "id": "4f131f28-3180-4f70-b8f1-e268801e4d44",
   "metadata": {},
   "outputs": [],
   "source": [
    "from openai import OpenAI\n",
    "client=OpenAI()"
   ]
  },
  {
   "cell_type": "code",
   "execution_count": 3,
   "id": "3707204e-0e1f-4af1-bb28-aeed39bffedf",
   "metadata": {},
   "outputs": [],
   "source": [
    "prompt2_template = \"\"\"\n",
    "You are an expert evaluator for a RAG system.\n",
    "Your task is to analyze the relevance of the generated answer to the given question.\n",
    "Based on the relevance of the generated answer, you will classify it\n",
    "as \"NON_RELEVANT\", \"PARTLY_RELEVANT\", or \"RELEVANT\".\n",
    "\n",
    "Here is the data for evaluation:\n",
    "\n",
    "Question: {question}\n",
    "Generated Answer: {answer_llm}\n",
    "\n",
    "Please analyze the content and context of the generated answer in relation to the question\n",
    "and provide your evaluation in parsable JSON without using code blocks:\n",
    "\n",
    "{{\n",
    "  \"Relevance\": \"NON_RELEVANT\" | \"PARTLY_RELEVANT\" | \"RELEVANT\",\n",
    "  \"Explanation\": \"[Provide a brief explanation for your evaluation]\"\n",
    "}}\n",
    "\"\"\".strip()"
   ]
  },
  {
   "cell_type": "code",
   "execution_count": 4,
   "id": "44fa373f-0f21-4381-bfe0-d91db0fc5cd4",
   "metadata": {},
   "outputs": [],
   "source": [
    "def build_prompt(query, search_results):\n",
    "    prompt_template = \"\"\"\n",
    "    You're a mental health psychiatrist. Answer the QUESTION based on the CONTEXT from our mental questions and answer database.\n",
    "    Use only the facts from the CONTEXT when answering the QUESTION.\n",
    "    \n",
    "    QUESTION: {question}\n",
    "    \n",
    "    CONTEXT:\n",
    "    {context}\n",
    "    \"\"\".strip()\n",
    "    \n",
    "    entry_template = \"\"\"\n",
    "    ANSWER: {Answers}\n",
    "    \"\"\".strip()\n",
    "    context = \"\"\n",
    "    \n",
    "    for doc in search_results:\n",
    "        context = context + entry_template.format(**doc) + \"\\n\\n\"\n",
    "\n",
    "    prompt = prompt_template.format(question=query, context=context).strip()\n",
    "    return prompt"
   ]
  },
  {
   "cell_type": "code",
   "execution_count": 38,
   "id": "1cc72e17-c6c9-48ea-95b5-7e8753f34c28",
   "metadata": {},
   "outputs": [],
   "source": [
    "query='how to get fat'\n",
    "search_results=lancedb_search(query)\n",
    "#build_prompt(query, search_results)"
   ]
  },
  {
   "cell_type": "code",
   "execution_count": 39,
   "id": "2c0bd2b3-cbe3-412c-8aec-5d12f5c94014",
   "metadata": {},
   "outputs": [],
   "source": [
    "def llm(prompt, model='gpt-4o-mini'):\n",
    "    response = client.chat.completions.create(\n",
    "        model=model,\n",
    "        messages=[{\"role\": \"user\", \"content\": prompt}]\n",
    "    )\n",
    "    \n",
    "    return response.choices[0].message.content"
   ]
  },
  {
   "cell_type": "code",
   "execution_count": 40,
   "id": "4e2bd8e8-000c-44a9-9d1b-8abf90511621",
   "metadata": {},
   "outputs": [],
   "source": [
    "query='How to cure mental illness?'\n",
    "vector=model.encode(query)\n",
    "def rag(query, model='gpt-4o-mini'):\n",
    "    search_results = lancedb_search(query)\n",
    "    prompt = build_prompt(query, search_results)\n",
    "    answer = llm(prompt, model=model)\n",
    "    return answer\n"
   ]
  },
  {
   "cell_type": "code",
   "execution_count": 41,
   "id": "f6de6d0c-216d-4293-9e18-0c3eaaf57591",
   "metadata": {},
   "outputs": [
    {
     "data": {
      "text/plain": [
       "\"To cure mental illness, it is crucial to ensure early identification and treatment. There is a range of effective treatments depending on the nature of the illness, including medication, therapy, self-help plans, and peer support. Proactivity and engagement in the recovery process are essential for the affected individual. While many people respond well to treatment, it's important to be mindful that some may experience a return of symptoms. Nonetheless, with careful monitoring and management, individuals can lead fulfilled and productive lives. Support from friends, family, and mental health professionals is also vital in encouraging those affected to seek help and begin their recovery journey.\""
      ]
     },
     "execution_count": 41,
     "metadata": {},
     "output_type": "execute_result"
    }
   ],
   "source": [
    "rag(query)"
   ]
  },
  {
   "cell_type": "code",
   "execution_count": 42,
   "id": "67f4bfde-9614-46df-86e9-a6e5f1a2ce7a",
   "metadata": {},
   "outputs": [
    {
     "data": {
      "text/plain": [
       "485"
      ]
     },
     "execution_count": 42,
     "metadata": {},
     "output_type": "execute_result"
    }
   ],
   "source": [
    "import json\n",
    "len(df)"
   ]
  },
  {
   "cell_type": "code",
   "execution_count": 43,
   "id": "65af6d6f-0383-489c-b716-856599d0460c",
   "metadata": {},
   "outputs": [],
   "source": [
    "df_sample = df.sample(n=200, random_state=1)"
   ]
  },
  {
   "cell_type": "code",
   "execution_count": 44,
   "id": "430c19e5-6cc4-462b-a58c-b600943896e2",
   "metadata": {},
   "outputs": [
    {
     "data": {
      "text/plain": [
       "[{'id': 1030153,\n",
       "  'question': 'How can I find a suitable mental health professional for my child?'},\n",
       " {'id': 6981545,\n",
       "  'question': 'Can you provide details about the Bounce Back program and how to access it?'},\n",
       " {'id': 9250044,\n",
       "  'question': 'What are some community support opportunities I can participate in to help others while also improving my mental health?'},\n",
       " {'id': 1667863,\n",
       "  'question': 'Why is it important to seek help early for mental health challenges?'},\n",
       " {'id': 4211025,\n",
       "  'question': 'What options are available for individuals experiencing a crisis?'}]"
      ]
     },
     "execution_count": 44,
     "metadata": {},
     "output_type": "execute_result"
    }
   ],
   "source": [
    "sample = df_sample.to_dict(orient='records')\n",
    "sample[:5]"
   ]
  },
  {
   "cell_type": "code",
   "execution_count": 45,
   "id": "ef4daf04-fca5-4cb6-857c-9cc073f23c32",
   "metadata": {},
   "outputs": [
    {
     "data": {
      "application/vnd.jupyter.widget-view+json": {
       "model_id": "eac49a6072b74bc6ae40e399d24f9ee1",
       "version_major": 2,
       "version_minor": 0
      },
      "text/plain": [
       "  0%|          | 0/200 [00:00<?, ?it/s]"
      ]
     },
     "metadata": {},
     "output_type": "display_data"
    }
   ],
   "source": [
    "evaluations_gpt4o_mini = []\n",
    "\n",
    "for record in tqdm(sample):\n",
    "    question = record['question']\n",
    "    answer_llm = rag(question, model='gpt-4o-mini') \n",
    "\n",
    "    prompt = prompt2_template.format(\n",
    "        question=question,\n",
    "        answer_llm=answer_llm\n",
    "    )\n",
    "\n",
    "    evaluation = llm(prompt)\n",
    "    evaluation = json.loads(evaluation)\n",
    "    \n",
    "    evaluations_gpt4o_mini.append((record, answer_llm, evaluation))"
   ]
  },
  {
   "cell_type": "code",
   "execution_count": 51,
   "id": "53e99873-c37d-4723-b9c8-29306dc11200",
   "metadata": {},
   "outputs": [],
   "source": [
    "df_eval = pd.DataFrame(evaluations_gpt4o_mini, columns=['record', 'answer', 'evaluation'])\n",
    "\n",
    "df_eval['id'] = df_eval.record.apply(lambda d: d['id'])\n",
    "df_eval['question'] = df_eval.record.apply(lambda d: d['question'])\n",
    "\n",
    "df_eval['relevance'] = df_eval.evaluation.apply(lambda d: d['Relevance'])\n",
    "df_eval['explanation'] = df_eval.evaluation.apply(lambda d: d['Explanation'])\n",
    "\n",
    "del df_eval['record']\n",
    "del df_eval['evaluation']"
   ]
  },
  {
   "cell_type": "code",
   "execution_count": 52,
   "id": "1d8f0025-2c1c-4a95-8baa-c929116674f4",
   "metadata": {},
   "outputs": [
    {
     "data": {
      "text/plain": [
       "relevance\n",
       "RELEVANT           195\n",
       "PARTLY_RELEVANT      3\n",
       "NON_RELEVANT         2\n",
       "Name: count, dtype: int64"
      ]
     },
     "execution_count": 52,
     "metadata": {},
     "output_type": "execute_result"
    }
   ],
   "source": [
    "df_eval.relevance.value_counts()"
   ]
  },
  {
   "cell_type": "code",
   "execution_count": 53,
   "id": "28d3b2f1-f2ec-46bc-89f0-3fbdc20c97cd",
   "metadata": {},
   "outputs": [
    {
     "data": {
      "text/plain": [
       "relevance\n",
       "RELEVANT           0.975\n",
       "PARTLY_RELEVANT    0.015\n",
       "NON_RELEVANT       0.010\n",
       "Name: proportion, dtype: float64"
      ]
     },
     "execution_count": 53,
     "metadata": {},
     "output_type": "execute_result"
    }
   ],
   "source": [
    "df_eval.relevance.value_counts(normalize=True)"
   ]
  },
  {
   "cell_type": "code",
   "execution_count": 54,
   "id": "73641533-02ac-4e62-8a27-a6a515eef156",
   "metadata": {},
   "outputs": [
    {
     "data": {
      "text/plain": [
       "relevance\n",
       "RELEVANT           0.975\n",
       "PARTLY_RELEVANT    0.015\n",
       "NON_RELEVANT       0.010\n",
       "Name: proportion, dtype: float64"
      ]
     },
     "execution_count": 54,
     "metadata": {},
     "output_type": "execute_result"
    }
   ],
   "source": [
    "df_eval.relevance.value_counts(normalize=True)"
   ]
  },
  {
   "cell_type": "code",
   "execution_count": 50,
   "id": "e9ff3257-0e75-48b4-8734-5b609ae99d4a",
   "metadata": {},
   "outputs": [
    {
     "data": {
      "text/plain": [
       "({'id': 1030153,\n",
       "  'question': 'How can I find a suitable mental health professional for my child?'},\n",
       " \"To find a suitable mental health professional for your child, you can take several steps:\\n\\n1. **Talk to your family doctor**: They can provide referrals and recommend appropriate mental health professionals based on your child's needs.\\n\\n2. **Consult the school**: If your child's difficulties affect their behavior or performance at school, speak with a school counsellor who can suggest resources and community services.\\n\\n3. **Use the Kelty Mental Health Resource Centre**: Their Help Finder tool can assist you in navigating the mental health system and finding specific services and providers.\\n\\n4. **Contact local services**: Reach out to local Child & Youth Mental Health offices on their walk-in days for immediate support.\\n\\n5. **Explore resources from the Institute of Families for Child and Youth Mental Health**: They offer guidance and support through their Youth-in-Residence and Parent-in-Residence programs.\\n\\n6. **Check out family-friendly programs**: Look into the Canadian Mental Health Association’s phone-based education and support program, which helps manage mild to moderate behavior problems in children.\\n\\n7. **Visit websites for additional information**: Resources like www.familysmart.ca and foundrybc.ca provide information and services for young people aged 12-24.\\n\\nFinding the right professional may require some research and ensuring that you and your child feel comfortable with them is essential for effective treatment.\",\n",
       " {'Relevance': 'RELEVANT',\n",
       "  'Explanation': 'The generated answer provides a comprehensive set of actionable steps for finding a suitable mental health professional for a child, including seeking referrals from doctors and schools, utilizing specific resources, and emphasizing the importance of comfort in the professional relationship. This directly addresses the question asked.'})"
      ]
     },
     "execution_count": 50,
     "metadata": {},
     "output_type": "execute_result"
    }
   ],
   "source": [
    "evaluations_gpt4o_mini[0]"
   ]
  },
  {
   "cell_type": "code",
   "execution_count": 46,
   "id": "a0ec3ba9-63f6-42c9-87a8-6481edc5ad81",
   "metadata": {},
   "outputs": [
    {
     "ename": "NameError",
     "evalue": "name 'df_eval' is not defined",
     "output_type": "error",
     "traceback": [
      "\u001b[1;31m---------------------------------------------------------------------------\u001b[0m",
      "\u001b[1;31mNameError\u001b[0m                                 Traceback (most recent call last)",
      "Cell \u001b[1;32mIn[46], line 1\u001b[0m\n\u001b[1;32m----> 1\u001b[0m \u001b[43mdf_eval\u001b[49m\u001b[38;5;241m.\u001b[39mto_csv(\u001b[38;5;124m'\u001b[39m\u001b[38;5;124m../App/data/rag-eval-lancedb_vector_search-gpt4o_mini.csv\u001b[39m\u001b[38;5;124m'\u001b[39m, index\u001b[38;5;241m=\u001b[39m\u001b[38;5;28;01mFalse\u001b[39;00m)\n",
      "\u001b[1;31mNameError\u001b[0m: name 'df_eval' is not defined"
     ]
    }
   ],
   "source": [
    "df_eval.to_csv('../App/data/rag-eval-lancedb_vector_search-gpt4o_mini.csv', index=False)"
   ]
  },
  {
   "cell_type": "code",
   "execution_count": 47,
   "id": "bf8b6824-9ccd-4e3c-82ee-097406a53404",
   "metadata": {},
   "outputs": [
    {
     "ename": "NameError",
     "evalue": "name 'df_eval' is not defined",
     "output_type": "error",
     "traceback": [
      "\u001b[1;31m---------------------------------------------------------------------------\u001b[0m",
      "\u001b[1;31mNameError\u001b[0m                                 Traceback (most recent call last)",
      "Cell \u001b[1;32mIn[47], line 1\u001b[0m\n\u001b[1;32m----> 1\u001b[0m \u001b[43mdf_eval\u001b[49m\n",
      "\u001b[1;31mNameError\u001b[0m: name 'df_eval' is not defined"
     ]
    }
   ],
   "source": [
    "df_eval"
   ]
  },
  {
   "cell_type": "code",
   "execution_count": 1,
   "id": "93f2106e-c4c0-4c4c-8caa-ee40897f4fe8",
   "metadata": {},
   "outputs": [],
   "source": [
    "import pandas as pd"
   ]
  },
  {
   "cell_type": "code",
   "execution_count": 3,
   "id": "1c54a662-9397-4f10-a5c5-9eca08d68fd5",
   "metadata": {},
   "outputs": [],
   "source": [
    "df=pd.read_csv('../data/clean_data/rag-eval-lancedb_vector_search-gpt4o_mini.csv')"
   ]
  },
  {
   "cell_type": "code",
   "execution_count": 6,
   "id": "dc444209-fc28-4cf8-8688-af0ca7aa8301",
   "metadata": {},
   "outputs": [
    {
     "data": {
      "text/plain": [
       "relevance\n",
       "RELEVANT           143\n",
       "PARTLY_RELEVANT     54\n",
       "NON_RELEVANT         3\n",
       "Name: count, dtype: int64"
      ]
     },
     "execution_count": 6,
     "metadata": {},
     "output_type": "execute_result"
    }
   ],
   "source": [
    "df.relevance.value_counts()"
   ]
  },
  {
   "cell_type": "code",
   "execution_count": 5,
   "id": "b45a184e-b5dc-40e8-8538-dbd70d58dd31",
   "metadata": {},
   "outputs": [
    {
     "data": {
      "text/html": [
       "<div>\n",
       "<style scoped>\n",
       "    .dataframe tbody tr th:only-of-type {\n",
       "        vertical-align: middle;\n",
       "    }\n",
       "\n",
       "    .dataframe tbody tr th {\n",
       "        vertical-align: top;\n",
       "    }\n",
       "\n",
       "    .dataframe thead th {\n",
       "        text-align: right;\n",
       "    }\n",
       "</style>\n",
       "<table border=\"1\" class=\"dataframe\">\n",
       "  <thead>\n",
       "    <tr style=\"text-align: right;\">\n",
       "      <th></th>\n",
       "      <th>answer</th>\n",
       "      <th>id</th>\n",
       "      <th>question</th>\n",
       "      <th>relevance</th>\n",
       "      <th>explanation</th>\n",
       "    </tr>\n",
       "  </thead>\n",
       "  <tbody>\n",
       "    <tr>\n",
       "      <th>0</th>\n",
       "      <td>No, not everything including milk comes in gla...</td>\n",
       "      <td>5385</td>\n",
       "      <td>In Europe, does everything including milk come...</td>\n",
       "      <td>RELEVANT</td>\n",
       "      <td>The generated answer directly addresses the qu...</td>\n",
       "    </tr>\n",
       "    <tr>\n",
       "      <th>1</th>\n",
       "      <td>Yes, eating raw foods can save time compared t...</td>\n",
       "      <td>871</td>\n",
       "      <td>Can eating raw foods save time compared to mor...</td>\n",
       "      <td>RELEVANT</td>\n",
       "      <td>The generated answer directly addresses the qu...</td>\n",
       "    </tr>\n",
       "    <tr>\n",
       "      <th>2</th>\n",
       "      <td>You might experience high cholesterol and keto...</td>\n",
       "      <td>5593</td>\n",
       "      <td>Why might you experience high cholesterol and ...</td>\n",
       "      <td>RELEVANT</td>\n",
       "      <td>The generated answer directly addresses the qu...</td>\n",
       "    </tr>\n",
       "    <tr>\n",
       "      <th>3</th>\n",
       "      <td>Based on the context provided, pasteurized but...</td>\n",
       "      <td>3682</td>\n",
       "      <td>Is pasteurized butter from non-toxic animals s...</td>\n",
       "      <td>PARTLY_RELEVANT</td>\n",
       "      <td>The generated answer discusses pasteurized but...</td>\n",
       "    </tr>\n",
       "    <tr>\n",
       "      <th>4</th>\n",
       "      <td>Lina is a person mentioned in the context who ...</td>\n",
       "      <td>604</td>\n",
       "      <td>Who is Lina and what does she run?</td>\n",
       "      <td>PARTLY_RELEVANT</td>\n",
       "      <td>The answer provides some context about Lina's ...</td>\n",
       "    </tr>\n",
       "  </tbody>\n",
       "</table>\n",
       "</div>"
      ],
      "text/plain": [
       "                                              answer    id  \\\n",
       "0  No, not everything including milk comes in gla...  5385   \n",
       "1  Yes, eating raw foods can save time compared t...   871   \n",
       "2  You might experience high cholesterol and keto...  5593   \n",
       "3  Based on the context provided, pasteurized but...  3682   \n",
       "4  Lina is a person mentioned in the context who ...   604   \n",
       "\n",
       "                                            question        relevance  \\\n",
       "0  In Europe, does everything including milk come...         RELEVANT   \n",
       "1  Can eating raw foods save time compared to mor...         RELEVANT   \n",
       "2  Why might you experience high cholesterol and ...         RELEVANT   \n",
       "3  Is pasteurized butter from non-toxic animals s...  PARTLY_RELEVANT   \n",
       "4                 Who is Lina and what does she run?  PARTLY_RELEVANT   \n",
       "\n",
       "                                         explanation  \n",
       "0  The generated answer directly addresses the qu...  \n",
       "1  The generated answer directly addresses the qu...  \n",
       "2  The generated answer directly addresses the qu...  \n",
       "3  The generated answer discusses pasteurized but...  \n",
       "4  The answer provides some context about Lina's ...  "
      ]
     },
     "execution_count": 5,
     "metadata": {},
     "output_type": "execute_result"
    }
   ],
   "source": [
    "df.head()"
   ]
  },
  {
   "cell_type": "code",
   "execution_count": null,
   "id": "22e09792-b663-4bf2-a605-925e3c34e2a5",
   "metadata": {},
   "outputs": [],
   "source": []
  }
 ],
 "metadata": {
  "kernelspec": {
   "display_name": "Python 3 (ipykernel)",
   "language": "python",
   "name": "python3"
  },
  "language_info": {
   "codemirror_mode": {
    "name": "ipython",
    "version": 3
   },
   "file_extension": ".py",
   "mimetype": "text/x-python",
   "name": "python",
   "nbconvert_exporter": "python",
   "pygments_lexer": "ipython3",
   "version": "3.10.14"
  }
 },
 "nbformat": 4,
 "nbformat_minor": 5
}
