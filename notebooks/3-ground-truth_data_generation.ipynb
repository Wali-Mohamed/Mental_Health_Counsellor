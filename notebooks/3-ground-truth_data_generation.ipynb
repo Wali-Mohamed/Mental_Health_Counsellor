{
 "cells": [
  {
   "cell_type": "code",
   "execution_count": 3,
   "id": "b450a265-d113-4780-aba7-05c31ef6e43a",
   "metadata": {},
   "outputs": [
    {
     "data": {
      "text/plain": [
       "True"
      ]
     },
     "execution_count": 3,
     "metadata": {},
     "output_type": "execute_result"
    }
   ],
   "source": [
    "import pandas as pd\n",
    "import json\n",
    "import time\n",
    "from dotenv import load_dotenv\n",
    "import os\n",
    "\n",
    "load_dotenv()  # This loads the variables from .env into the environment"
   ]
  },
  {
   "cell_type": "code",
   "execution_count": 4,
   "id": "775a08e7-c22b-4143-aec9-9b3d57b07930",
   "metadata": {},
   "outputs": [],
   "source": [
    "from openai import OpenAI\n",
    "\n",
    "\n",
    "client = OpenAI()\n",
    "#from error import APIConnectionError"
   ]
  },
  {
   "cell_type": "code",
   "execution_count": 5,
   "id": "5bfde6da-e847-4214-881d-2c461712f24c",
   "metadata": {},
   "outputs": [],
   "source": [
    "df=pd.read_csv('../App/data/Mental_Health_FAQ.csv')"
   ]
  },
  {
   "cell_type": "code",
   "execution_count": 6,
   "id": "e97dcb3e-f104-4707-9fba-47f4d156231c",
   "metadata": {},
   "outputs": [
    {
     "data": {
      "text/html": [
       "<div>\n",
       "<style scoped>\n",
       "    .dataframe tbody tr th:only-of-type {\n",
       "        vertical-align: middle;\n",
       "    }\n",
       "\n",
       "    .dataframe tbody tr th {\n",
       "        vertical-align: top;\n",
       "    }\n",
       "\n",
       "    .dataframe thead th {\n",
       "        text-align: right;\n",
       "    }\n",
       "</style>\n",
       "<table border=\"1\" class=\"dataframe\">\n",
       "  <thead>\n",
       "    <tr style=\"text-align: right;\">\n",
       "      <th></th>\n",
       "      <th>Question_ID</th>\n",
       "      <th>Questions</th>\n",
       "      <th>Answers</th>\n",
       "    </tr>\n",
       "  </thead>\n",
       "  <tbody>\n",
       "    <tr>\n",
       "      <th>0</th>\n",
       "      <td>1590140</td>\n",
       "      <td>What does it mean to have a mental illness?</td>\n",
       "      <td>Mental illnesses are health conditions that di...</td>\n",
       "    </tr>\n",
       "    <tr>\n",
       "      <th>1</th>\n",
       "      <td>2110618</td>\n",
       "      <td>Who does mental illness affect?</td>\n",
       "      <td>It is estimated that mental illness affects 1 ...</td>\n",
       "    </tr>\n",
       "    <tr>\n",
       "      <th>2</th>\n",
       "      <td>6361820</td>\n",
       "      <td>What causes mental illness?</td>\n",
       "      <td>It is estimated that mental illness affects 1 ...</td>\n",
       "    </tr>\n",
       "    <tr>\n",
       "      <th>3</th>\n",
       "      <td>9434130</td>\n",
       "      <td>What are some of the warning signs of mental i...</td>\n",
       "      <td>Symptoms of mental health disorders vary depen...</td>\n",
       "    </tr>\n",
       "    <tr>\n",
       "      <th>4</th>\n",
       "      <td>7657263</td>\n",
       "      <td>Can people with mental illness recover?</td>\n",
       "      <td>When healing from mental illness, early identi...</td>\n",
       "    </tr>\n",
       "  </tbody>\n",
       "</table>\n",
       "</div>"
      ],
      "text/plain": [
       "   Question_ID                                          Questions  \\\n",
       "0      1590140        What does it mean to have a mental illness?   \n",
       "1      2110618                    Who does mental illness affect?   \n",
       "2      6361820                        What causes mental illness?   \n",
       "3      9434130  What are some of the warning signs of mental i...   \n",
       "4      7657263            Can people with mental illness recover?   \n",
       "\n",
       "                                             Answers  \n",
       "0  Mental illnesses are health conditions that di...  \n",
       "1  It is estimated that mental illness affects 1 ...  \n",
       "2  It is estimated that mental illness affects 1 ...  \n",
       "3  Symptoms of mental health disorders vary depen...  \n",
       "4  When healing from mental illness, early identi...  "
      ]
     },
     "execution_count": 6,
     "metadata": {},
     "output_type": "execute_result"
    }
   ],
   "source": [
    "df.head()"
   ]
  },
  {
   "cell_type": "code",
   "execution_count": null,
   "id": "b83ae0e0-9903-46aa-a514-c973c801f7d6",
   "metadata": {},
   "outputs": [],
   "source": []
  },
  {
   "cell_type": "code",
   "execution_count": null,
   "id": "f2dd324d-7612-4497-b495-fb553f7e82cb",
   "metadata": {},
   "outputs": [],
   "source": []
  },
  {
   "cell_type": "code",
   "execution_count": 7,
   "id": "d5deaa24-798f-4b17-9211-c317283a4de5",
   "metadata": {},
   "outputs": [
    {
     "data": {
      "text/plain": [
       "[{'Question_ID': 1590140,\n",
       "  'Questions': 'What does it mean to have a mental illness?',\n",
       "  'Answers': 'Mental illnesses are health conditions that disrupt a personâ€™s thoughts, emotions, relationships, and daily functioning. They are associated with distress and diminished capacity to engage in the ordinary activities of daily life.\\nMental illnesses fall along a continuum of severity: some are fairly mild and only interfere with some aspects of life, such as certain phobias. On the other end of the spectrum lie serious mental illnesses, which result in major functional impairment and interference with daily life. These include such disorders as major depression, schizophrenia, and bipolar disorder, and may require that the person receives care in a hospital.\\nIt is important to know that mental illnesses are medical conditions that have nothing to do with a personâ€™s character, intelligence, or willpower. Just as diabetes is a disorder of the pancreas, mental illness is a medical condition due to the brainâ€™s biology.\\nSimilarly to how one would treat diabetes with medication and insulin, mental illness is treatable with a combination of medication and social support. These treatments are highly effective, with 70-90 percent of individuals receiving treatment experiencing a reduction in symptoms and an improved quality of life. With the proper treatment, it is very possible for a person with mental illness to be independent and successful.'},\n",
       " {'Question_ID': 2110618,\n",
       "  'Questions': 'Who does mental illness affect?',\n",
       "  'Answers': 'It is estimated that mental illness affects 1 in 5 adults in America, and that 1 in 24 adults have a serious mental illness. Mental illness does not discriminate; it can affect anyone, regardless of gender, age, income, social status, ethnicity, religion, sexual orientation, or background.\\nAlthough mental illness can affect anyone, certain conditions may be more common in different populations. For instance, eating disorders tend to occur more often in females, while disorders such as attention deficit/hyperactivity disorder is more prevalent in children.\\nAdditionally, all ages are susceptible, but the young and the old are especially vulnerable. Mental illnesses usually strike individuals in the prime of their lives, with 75 percent of mental health conditions developing by the age of 24. This makes identification and treatment of mental disorders particularly difficult, because the normal personality and behavioral changes of adolescence may mask symptoms of a mental health condition.\\nParents and caretakers should be aware of this fact, and take notice of changes in their childâ€™s mood, personality, personal habits, and social withdrawal. When these occur in children under 18, they are referred to as serious emotional disturbances (SEDs).'}]"
      ]
     },
     "execution_count": 7,
     "metadata": {},
     "output_type": "execute_result"
    }
   ],
   "source": [
    "documents = df.to_dict(orient='records')\n",
    "documents[0:2]"
   ]
  },
  {
   "cell_type": "code",
   "execution_count": 14,
   "id": "06d69ea9-22fd-476c-bd6a-d04f4af439f7",
   "metadata": {},
   "outputs": [],
   "source": [
    "prompt_template = \"\"\"\n",
    "You emulate a user of our mental health psychiatrist application.\n",
    "Formulate 5 questions this user might ask based on the answers in this database.\n",
    "Make the questions specific to that chunk.\n",
    "The record should contain the answer to the questions, and the questions should\n",
    "be complete and not too short. Use as fewer words as possible from the record. \n",
    "\n",
    "The record:\n",
    "\n",
    "ANSWER: {Answers}\n",
    "\n",
    "\n",
    "Provide the output in parsable JSON without using code blocks:\n",
    "\n",
    "{{\"questions\": [\"question1\", \"question2\", ..., \"question5\"]}}\n",
    "\"\"\".strip()"
   ]
  },
  {
   "cell_type": "code",
   "execution_count": 15,
   "id": "6c1b81d2-e612-45fe-a79e-e78fc1cf66e5",
   "metadata": {},
   "outputs": [
    {
     "data": {
      "text/plain": [
       "{'Question_ID': 1590140,\n",
       " 'Questions': 'What does it mean to have a mental illness?',\n",
       " 'Answers': 'Mental illnesses are health conditions that disrupt a personâ€™s thoughts, emotions, relationships, and daily functioning. They are associated with distress and diminished capacity to engage in the ordinary activities of daily life.\\nMental illnesses fall along a continuum of severity: some are fairly mild and only interfere with some aspects of life, such as certain phobias. On the other end of the spectrum lie serious mental illnesses, which result in major functional impairment and interference with daily life. These include such disorders as major depression, schizophrenia, and bipolar disorder, and may require that the person receives care in a hospital.\\nIt is important to know that mental illnesses are medical conditions that have nothing to do with a personâ€™s character, intelligence, or willpower. Just as diabetes is a disorder of the pancreas, mental illness is a medical condition due to the brainâ€™s biology.\\nSimilarly to how one would treat diabetes with medication and insulin, mental illness is treatable with a combination of medication and social support. These treatments are highly effective, with 70-90 percent of individuals receiving treatment experiencing a reduction in symptoms and an improved quality of life. With the proper treatment, it is very possible for a person with mental illness to be independent and successful.'}"
      ]
     },
     "execution_count": 15,
     "metadata": {},
     "output_type": "execute_result"
    }
   ],
   "source": [
    "documents[0]"
   ]
  },
  {
   "cell_type": "code",
   "execution_count": 16,
   "id": "64b33a94-2a4d-4bf9-9f7d-fe4426a2a19b",
   "metadata": {},
   "outputs": [],
   "source": [
    "prompt = prompt_template.format(**documents[0])"
   ]
  },
  {
   "cell_type": "code",
   "execution_count": 17,
   "id": "d9e8676f-785d-47fb-b512-757cb5970243",
   "metadata": {},
   "outputs": [
    {
     "data": {
      "text/plain": [
       "'You emulate a user of our mental health psychiatrist application.\\nFormulate 5 questions this user might ask based on the answers in this database.\\nMake the questions specific to that chunk.\\nThe record should contain the answer to the questions, and the questions should\\nbe complete and not too short. Use as fewer words as possible from the record. \\n\\nThe record:\\n\\nANSWER: Mental illnesses are health conditions that disrupt a personâ€™s thoughts, emotions, relationships, and daily functioning. They are associated with distress and diminished capacity to engage in the ordinary activities of daily life.\\nMental illnesses fall along a continuum of severity: some are fairly mild and only interfere with some aspects of life, such as certain phobias. On the other end of the spectrum lie serious mental illnesses, which result in major functional impairment and interference with daily life. These include such disorders as major depression, schizophrenia, and bipolar disorder, and may require that the person receives care in a hospital.\\nIt is important to know that mental illnesses are medical conditions that have nothing to do with a personâ€™s character, intelligence, or willpower. Just as diabetes is a disorder of the pancreas, mental illness is a medical condition due to the brainâ€™s biology.\\nSimilarly to how one would treat diabetes with medication and insulin, mental illness is treatable with a combination of medication and social support. These treatments are highly effective, with 70-90 percent of individuals receiving treatment experiencing a reduction in symptoms and an improved quality of life. With the proper treatment, it is very possible for a person with mental illness to be independent and successful.\\n\\n\\nProvide the output in parsable JSON without using code blocks:\\n\\n{\"questions\": [\"question1\", \"question2\", ..., \"question5\"]}'"
      ]
     },
     "execution_count": 17,
     "metadata": {},
     "output_type": "execute_result"
    }
   ],
   "source": [
    "prompt"
   ]
  },
  {
   "cell_type": "code",
   "execution_count": 18,
   "id": "f3a53ca3-7820-4f08-9b43-04ea05b6ce5c",
   "metadata": {},
   "outputs": [
    {
     "name": "stdout",
     "output_type": "stream",
     "text": [
      "You emulate a user of our mental health psychiatrist application.\n",
      "Formulate 5 questions this user might ask based on the answers in this database.\n",
      "Make the questions specific to that chunk.\n",
      "The record should contain the answer to the questions, and the questions should\n",
      "be complete and not too short. Use as fewer words as possible from the record. \n",
      "\n",
      "The record:\n",
      "\n",
      "ANSWER: Mental illnesses are health conditions that disrupt a personâ€™s thoughts, emotions, relationships, and daily functioning. They are associated with distress and diminished capacity to engage in the ordinary activities of daily life.\n",
      "Mental illnesses fall along a continuum of severity: some are fairly mild and only interfere with some aspects of life, such as certain phobias. On the other end of the spectrum lie serious mental illnesses, which result in major functional impairment and interference with daily life. These include such disorders as major depression, schizophrenia, and bipolar disorder, and may require that the person receives care in a hospital.\n",
      "It is important to know that mental illnesses are medical conditions that have nothing to do with a personâ€™s character, intelligence, or willpower. Just as diabetes is a disorder of the pancreas, mental illness is a medical condition due to the brainâ€™s biology.\n",
      "Similarly to how one would treat diabetes with medication and insulin, mental illness is treatable with a combination of medication and social support. These treatments are highly effective, with 70-90 percent of individuals receiving treatment experiencing a reduction in symptoms and an improved quality of life. With the proper treatment, it is very possible for a person with mental illness to be independent and successful.\n",
      "\n",
      "\n",
      "Provide the output in parsable JSON without using code blocks:\n",
      "\n",
      "{\"questions\": [\"question1\", \"question2\", ..., \"question5\"]}\n"
     ]
    }
   ],
   "source": [
    "print(_)"
   ]
  },
  {
   "cell_type": "code",
   "execution_count": 19,
   "id": "80c374b6-cff5-4d5f-ba52-eab1cc799df5",
   "metadata": {},
   "outputs": [],
   "source": [
    "def llm(prompt):\n",
    "    response = client.chat.completions.create(\n",
    "        model='gpt-4o',\n",
    "        messages=[{\"role\": \"user\", \"content\": prompt}]\n",
    "    )\n",
    "    \n",
    "    return response.choices[0].message.content"
   ]
  },
  {
   "cell_type": "code",
   "execution_count": 20,
   "id": "6be02253-a6cd-4296-a5aa-40dafdf031d0",
   "metadata": {},
   "outputs": [
    {
     "data": {
      "text/plain": [
       "'{\\n    \"questions\": [\\n        \"What defines mental illnesses according to your understanding?\",\\n        \"Can mild mental illnesses only affect certain aspects of life or can they be more pervasive?\",\\n        \"Which serious mental illnesses are mentioned that may require hospitalization for care?\",\\n        \"How are mental illnesses compared to disorders like diabetes in terms of their medical nature?\",\\n        \"What is the effectiveness rate of treatments for mental illnesses and how do they impact life quality?\"\\n    ]\\n}'"
      ]
     },
     "execution_count": 20,
     "metadata": {},
     "output_type": "execute_result"
    }
   ],
   "source": [
    "questions = llm(prompt)\n",
    "questions"
   ]
  },
  {
   "cell_type": "code",
   "execution_count": 21,
   "id": "0f3cfb51-9c14-4bfc-8c1d-5b08d121e2fc",
   "metadata": {},
   "outputs": [],
   "source": [
    "import json"
   ]
  },
  {
   "cell_type": "code",
   "execution_count": 22,
   "id": "d908738d-8d5f-4759-b5c5-3e18f0f9c334",
   "metadata": {},
   "outputs": [
    {
     "data": {
      "text/plain": [
       "{'questions': ['What defines mental illnesses according to your understanding?',\n",
       "  'Can mild mental illnesses only affect certain aspects of life or can they be more pervasive?',\n",
       "  'Which serious mental illnesses are mentioned that may require hospitalization for care?',\n",
       "  'How are mental illnesses compared to disorders like diabetes in terms of their medical nature?',\n",
       "  'What is the effectiveness rate of treatments for mental illnesses and how do they impact life quality?']}"
      ]
     },
     "execution_count": 22,
     "metadata": {},
     "output_type": "execute_result"
    }
   ],
   "source": [
    "json.loads(questions)"
   ]
  },
  {
   "cell_type": "code",
   "execution_count": 27,
   "id": "8d57160a-2d90-40cf-98eb-3ff23b951a81",
   "metadata": {},
   "outputs": [],
   "source": [
    "def generate_questions(doc):\n",
    "    prompt = prompt_template.format(**doc)\n",
    "\n",
    "    response = client.chat.completions.create(\n",
    "        model='gpt-4o-mini',\n",
    "        messages=[{\"role\": \"user\", \"content\": prompt}]\n",
    "    )\n",
    "\n",
    "    json_response = response.choices[0].message.content\n",
    "    return json_response"
   ]
  },
  {
   "cell_type": "code",
   "execution_count": 28,
   "id": "a7f8f6ca-9ff4-4967-9af2-56e98ade8121",
   "metadata": {},
   "outputs": [],
   "source": [
    "from tqdm.auto import tqdm"
   ]
  },
  {
   "cell_type": "code",
   "execution_count": 25,
   "id": "8f94a553-c893-429b-ad06-20345506b065",
   "metadata": {},
   "outputs": [],
   "source": [
    "results = {}\n"
   ]
  },
  {
   "cell_type": "code",
   "execution_count": 29,
   "id": "e9d351fd-95f9-48bb-842a-7f78aa735e4d",
   "metadata": {},
   "outputs": [
    {
     "data": {
      "text/plain": [
       "{'Question_ID': 1590140,\n",
       " 'Questions': 'What does it mean to have a mental illness?',\n",
       " 'Answers': 'Mental illnesses are health conditions that disrupt a personâ€™s thoughts, emotions, relationships, and daily functioning. They are associated with distress and diminished capacity to engage in the ordinary activities of daily life.\\nMental illnesses fall along a continuum of severity: some are fairly mild and only interfere with some aspects of life, such as certain phobias. On the other end of the spectrum lie serious mental illnesses, which result in major functional impairment and interference with daily life. These include such disorders as major depression, schizophrenia, and bipolar disorder, and may require that the person receives care in a hospital.\\nIt is important to know that mental illnesses are medical conditions that have nothing to do with a personâ€™s character, intelligence, or willpower. Just as diabetes is a disorder of the pancreas, mental illness is a medical condition due to the brainâ€™s biology.\\nSimilarly to how one would treat diabetes with medication and insulin, mental illness is treatable with a combination of medication and social support. These treatments are highly effective, with 70-90 percent of individuals receiving treatment experiencing a reduction in symptoms and an improved quality of life. With the proper treatment, it is very possible for a person with mental illness to be independent and successful.'}"
      ]
     },
     "execution_count": 29,
     "metadata": {},
     "output_type": "execute_result"
    }
   ],
   "source": [
    "len(documents)\n",
    "documents[0]"
   ]
  },
  {
   "cell_type": "markdown",
   "id": "f47311be-c6a9-45cf-899f-b7793189b8f5",
   "metadata": {},
   "source": [
    "## Parallelarization\n"
   ]
  },
  {
   "cell_type": "code",
   "execution_count": null,
   "id": "f4b9b32a-cf34-491f-8b8e-d25084bf8d35",
   "metadata": {},
   "outputs": [],
   "source": []
  },
  {
   "cell_type": "code",
   "execution_count": 30,
   "id": "62817207-ebd0-46d5-a1b2-e404b4881dbb",
   "metadata": {},
   "outputs": [
    {
     "data": {
      "application/vnd.jupyter.widget-view+json": {
       "model_id": "575e81fa560b408a8a4dc9982826a9e8",
       "version_major": 2,
       "version_minor": 0
      },
      "text/plain": [
       "  0%|          | 0/98 [00:00<?, ?it/s]"
      ]
     },
     "metadata": {},
     "output_type": "display_data"
    },
    {
     "data": {
      "application/vnd.jupyter.widget-view+json": {
       "model_id": "fb0a1d1a5ee14cea94c38d6fe75a4349",
       "version_major": 2,
       "version_minor": 0
      },
      "text/plain": [
       "0it [00:00, ?it/s]"
      ]
     },
     "metadata": {},
     "output_type": "display_data"
    },
    {
     "name": "stdout",
     "output_type": "stream",
     "text": [
      "Error processing doc_id 6521784: Expecting ',' delimiter: line 1 column 341 (char 340)\n",
      "Time taken: 0.8633713722229004 minutes\n"
     ]
    }
   ],
   "source": [
    "from concurrent.futures import ThreadPoolExecutor, as_completed\n",
    "def process_document(doc):\n",
    "    doc_id = doc['Question_ID']\n",
    "    if doc_id in results:\n",
    "        return None  # Skip this document if already processed\n",
    "    try:\n",
    "        questions_raw = generate_questions(doc)\n",
    "        questions = json.loads(questions_raw)\n",
    "        return (doc_id, questions['questions'])\n",
    "    except (json.JSONDecodeError, KeyError) as e:\n",
    "        print(f\"Error processing doc_id {doc_id}: {e}\")\n",
    "        return None\n",
    "\n",
    "# Track time\n",
    "t0 = time.time()\n",
    "\n",
    "# Create a ThreadPoolExecutor with a suitable number of workers\n",
    "with ThreadPoolExecutor(max_workers=3) as executor:\n",
    "    # Submit all tasks\n",
    "    \n",
    "    futures = {executor.submit(process_document, doc): doc for doc in tqdm(documents)}\n",
    "\n",
    "    total_tasks = len(futures)\n",
    "    # Collect results as they complete\n",
    "    for future in tqdm(as_completed(futures)):\n",
    "        result = future.result()\n",
    "        if result is not None:\n",
    "            doc_id, questions = result\n",
    "            results[doc_id] = questions\n",
    "\n",
    "# End time\n",
    "t1 = time.time()\n",
    "# Print time taken\n",
    "print(f\"Time taken: {(t1 - t0)/60} minutes\")\n"
   ]
  },
  {
   "cell_type": "code",
   "execution_count": 32,
   "id": "5d68ef80-8a02-44fd-813e-4fd74e4d5592",
   "metadata": {},
   "outputs": [
    {
     "data": {
      "text/plain": [
       "97"
      ]
     },
     "execution_count": 32,
     "metadata": {},
     "output_type": "execute_result"
    }
   ],
   "source": [
    "len(results)\n"
   ]
  },
  {
   "cell_type": "code",
   "execution_count": 55,
   "id": "1ab29daf-de00-4413-8a66-aea33a3d7389",
   "metadata": {},
   "outputs": [],
   "source": [
    "# no need to use the following code"
   ]
  },
  {
   "cell_type": "code",
   "execution_count": 56,
   "id": "ea6ca478-12c8-41f4-ba9a-dbf53b3375b9",
   "metadata": {},
   "outputs": [],
   "source": [
    "# import time\n",
    "# t0=time.time()\n",
    "# for doc in tqdm(random_docs[:1000]): \n",
    "#     doc_id = doc['id']\n",
    "#     if doc_id in results:\n",
    "#         continue\n",
    "#     try:\n",
    "#         questions_raw = generate_questions(doc)\n",
    "#         questions = json.loads(questions_raw)  # If an error happens here, the next line will not run\n",
    "#         results[doc_id] = questions['questions']  # This line will be skipped if there's an error in json.loads()\n",
    "#     except (json.JSONDecodeError, KeyError) as e:\n",
    "#         print(f\"Error processing doc_id {doc_id}: {e}\")\n",
    "    \n",
    "# t1=time.time()\n",
    "# print((t0-t1)/60)"
   ]
  },
  {
   "cell_type": "code",
   "execution_count": 37,
   "id": "72a258ab-c0fe-4a64-ae24-1be0944a685e",
   "metadata": {},
   "outputs": [
    {
     "data": {
      "text/plain": [
       "97"
      ]
     },
     "execution_count": 37,
     "metadata": {},
     "output_type": "execute_result"
    }
   ],
   "source": [
    "len(results)"
   ]
  },
  {
   "cell_type": "code",
   "execution_count": 34,
   "id": "095fe029-21cf-4ee3-96d4-08487e5731ef",
   "metadata": {},
   "outputs": [],
   "source": [
    "final_results = []\n",
    "\n",
    "for doc_id, questions in results.items():\n",
    "    for q in questions:\n",
    "        final_results.append((doc_id, q))"
   ]
  },
  {
   "cell_type": "code",
   "execution_count": 35,
   "id": "17ddc4fe-4e3e-4634-bb4d-098802f20ae7",
   "metadata": {},
   "outputs": [
    {
     "data": {
      "text/plain": [
       "[(1590140, 'What are the different levels of severity for mental illnesses?'),\n",
       " (1590140, 'Can you explain how mental illnesses impact daily functioning?'),\n",
       " (1590140,\n",
       "  \"Are mental illnesses linked to a person's character or intelligence?\"),\n",
       " (1590140, 'What treatments are available for mental illnesses?'),\n",
       " (1590140, 'How effective is treatment for individuals with mental illness?'),\n",
       " (6361820, 'What percentage of mental health conditions develop by age 24?'),\n",
       " (6361820, 'Which demographic is most susceptible to eating disorders?'),\n",
       " (6361820,\n",
       "  'How are serious emotional disturbances defined in children under 18?'),\n",
       " (6361820,\n",
       "  'Why is it difficult to identify mental health disorders in adolescents?'),\n",
       " (6361820,\n",
       "  'What is the estimated proportion of adults affected by mental illness in America?')]"
      ]
     },
     "execution_count": 35,
     "metadata": {},
     "output_type": "execute_result"
    }
   ],
   "source": [
    "final_results[0:10]"
   ]
  },
  {
   "cell_type": "code",
   "execution_count": 38,
   "id": "485dcb21-8d13-482c-beba-c8064b679772",
   "metadata": {},
   "outputs": [
    {
     "data": {
      "text/plain": [
       "485"
      ]
     },
     "execution_count": 38,
     "metadata": {},
     "output_type": "execute_result"
    }
   ],
   "source": [
    "len(final_results)"
   ]
  },
  {
   "cell_type": "code",
   "execution_count": 39,
   "id": "019f252e-0e39-4ce8-8f0b-24eee8ab303d",
   "metadata": {},
   "outputs": [
    {
     "data": {
      "text/html": [
       "<div>\n",
       "<style scoped>\n",
       "    .dataframe tbody tr th:only-of-type {\n",
       "        vertical-align: middle;\n",
       "    }\n",
       "\n",
       "    .dataframe tbody tr th {\n",
       "        vertical-align: top;\n",
       "    }\n",
       "\n",
       "    .dataframe thead th {\n",
       "        text-align: right;\n",
       "    }\n",
       "</style>\n",
       "<table border=\"1\" class=\"dataframe\">\n",
       "  <thead>\n",
       "    <tr style=\"text-align: right;\">\n",
       "      <th></th>\n",
       "      <th>id</th>\n",
       "      <th>question</th>\n",
       "    </tr>\n",
       "  </thead>\n",
       "  <tbody>\n",
       "    <tr>\n",
       "      <th>0</th>\n",
       "      <td>1590140</td>\n",
       "      <td>What are the different levels of severity for ...</td>\n",
       "    </tr>\n",
       "    <tr>\n",
       "      <th>1</th>\n",
       "      <td>1590140</td>\n",
       "      <td>Can you explain how mental illnesses impact da...</td>\n",
       "    </tr>\n",
       "    <tr>\n",
       "      <th>2</th>\n",
       "      <td>1590140</td>\n",
       "      <td>Are mental illnesses linked to a person's char...</td>\n",
       "    </tr>\n",
       "    <tr>\n",
       "      <th>3</th>\n",
       "      <td>1590140</td>\n",
       "      <td>What treatments are available for mental illne...</td>\n",
       "    </tr>\n",
       "    <tr>\n",
       "      <th>4</th>\n",
       "      <td>1590140</td>\n",
       "      <td>How effective is treatment for individuals wit...</td>\n",
       "    </tr>\n",
       "  </tbody>\n",
       "</table>\n",
       "</div>"
      ],
      "text/plain": [
       "        id                                           question\n",
       "0  1590140  What are the different levels of severity for ...\n",
       "1  1590140  Can you explain how mental illnesses impact da...\n",
       "2  1590140  Are mental illnesses linked to a person's char...\n",
       "3  1590140  What treatments are available for mental illne...\n",
       "4  1590140  How effective is treatment for individuals wit..."
      ]
     },
     "execution_count": 39,
     "metadata": {},
     "output_type": "execute_result"
    }
   ],
   "source": [
    "df = pd.DataFrame(final_results, columns=['id', 'question'])\n",
    "df.head()"
   ]
  },
  {
   "cell_type": "code",
   "execution_count": null,
   "id": "459d45f1-93f0-46a9-aaf5-e657fd30a343",
   "metadata": {},
   "outputs": [],
   "source": []
  },
  {
   "cell_type": "code",
   "execution_count": 40,
   "id": "bc8b56cd-b916-41a1-a3ba-71026e8cefbf",
   "metadata": {},
   "outputs": [],
   "source": [
    "df.to_csv('../App/data/ground-truth-data.csv', index=False)"
   ]
  },
  {
   "cell_type": "code",
   "execution_count": 42,
   "id": "55735c93-4334-4e79-8388-274c98905dc0",
   "metadata": {},
   "outputs": [
    {
     "name": "stdout",
     "output_type": "stream",
     "text": [
      "id,question\n",
      "1590140,What are the different levels of severity for mental illnesses?\n",
      "1590140,Can you explain how mental illnesses impact daily functioning?\n",
      "1590140,Are mental illnesses linked to a person's character or intelligence?\n",
      "1590140,What treatments are available for mental illnesses?\n",
      "1590140,How effective is treatment for individuals with mental illness?\n",
      "6361820,What percentage of mental health conditions develop by age 24?\n",
      "6361820,Which demographic is most susceptible to eating disorders?\n",
      "6361820,How are serious emotional disturbances defined in children under 18?\n",
      "6361820,Why is it difficult to identify mental health disorders in adolescents?\n"
     ]
    }
   ],
   "source": [
    "!head '../App/data/ground-truth-data.csv'"
   ]
  },
  {
   "cell_type": "code",
   "execution_count": null,
   "id": "0b59f4b5-c318-4d62-ae3a-cf390df17160",
   "metadata": {},
   "outputs": [],
   "source": []
  }
 ],
 "metadata": {
  "kernelspec": {
   "display_name": "Python 3 (ipykernel)",
   "language": "python",
   "name": "python3"
  },
  "language_info": {
   "codemirror_mode": {
    "name": "ipython",
    "version": 3
   },
   "file_extension": ".py",
   "mimetype": "text/x-python",
   "name": "python",
   "nbconvert_exporter": "python",
   "pygments_lexer": "ipython3",
   "version": "3.10.14"
  }
 },
 "nbformat": 4,
 "nbformat_minor": 5
}
