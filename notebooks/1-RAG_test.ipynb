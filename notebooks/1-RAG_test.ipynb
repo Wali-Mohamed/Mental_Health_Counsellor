{
 "cells": [
  {
   "cell_type": "markdown",
   "id": "92d49684-2a2e-44f6-b1c1-14ae38f307c8",
   "metadata": {},
   "source": [
    "## Data Ingestion"
   ]
  },
  {
   "cell_type": "code",
   "execution_count": 19,
   "id": "69b30345-8175-485c-8a92-9b04c611317e",
   "metadata": {},
   "outputs": [
    {
     "data": {
      "text/plain": [
       "True"
      ]
     },
     "execution_count": 19,
     "metadata": {},
     "output_type": "execute_result"
    }
   ],
   "source": [
    "# Import libraries and modules\n",
    "import pandas as pd\n",
    "import minsearch\n",
    "from tqdm.auto import tqdm\n",
    "from openai import OpenAI\n",
    "from dotenv import load_dotenv\n",
    "import os\n",
    "\n",
    "load_dotenv()  # This loads the variables from .env into the environment"
   ]
  },
  {
   "cell_type": "code",
   "execution_count": 13,
   "id": "4cf3106a-1943-423b-aef9-80a8b24ffcf4",
   "metadata": {},
   "outputs": [
    {
     "name": "stdout",
     "output_type": "stream",
     "text": [
      "<class 'pandas.core.frame.DataFrame'>\n",
      "RangeIndex: 98 entries, 0 to 97\n",
      "Data columns (total 3 columns):\n",
      " #   Column       Non-Null Count  Dtype \n",
      "---  ------       --------------  ----- \n",
      " 0   Question_ID  98 non-null     int64 \n",
      " 1   Questions    98 non-null     object\n",
      " 2   Answers      98 non-null     object\n",
      "dtypes: int64(1), object(2)\n",
      "memory usage: 2.4+ KB\n"
     ]
    }
   ],
   "source": [
    "df=pd.read_csv('../App/data/Mental_Health_FAQ.csv')\n",
    "\n",
    "df.isnull().sum()  # null\n",
    "df.head()\n",
    "df.Question_ID.unique() # unique IDs 98\n",
    "df.info()"
   ]
  },
  {
   "cell_type": "code",
   "execution_count": 6,
   "id": "f4f1fd2e-b6ee-4dec-bece-bfcd4663a66c",
   "metadata": {},
   "outputs": [],
   "source": [
    "documents = df.to_dict(orient='records')\n",
    "import json\n",
    "with open('../App/data/documents.json', 'w') as file:\n",
    "    json.dump(documents, file)"
   ]
  },
  {
   "cell_type": "code",
   "execution_count": 7,
   "id": "49255aa6-4022-41a9-b49c-bf5fc92010c1",
   "metadata": {},
   "outputs": [
    {
     "name": "stdout",
     "output_type": "stream",
     "text": [
      "98\n"
     ]
    },
    {
     "data": {
      "text/plain": [
       "{'Question_ID': 1590140,\n",
       " 'Questions': 'What does it mean to have a mental illness?',\n",
       " 'Answers': 'Mental illnesses are health conditions that disrupt a personâ€™s thoughts, emotions, relationships, and daily functioning. They are associated with distress and diminished capacity to engage in the ordinary activities of daily life.\\nMental illnesses fall along a continuum of severity: some are fairly mild and only interfere with some aspects of life, such as certain phobias. On the other end of the spectrum lie serious mental illnesses, which result in major functional impairment and interference with daily life. These include such disorders as major depression, schizophrenia, and bipolar disorder, and may require that the person receives care in a hospital.\\nIt is important to know that mental illnesses are medical conditions that have nothing to do with a personâ€™s character, intelligence, or willpower. Just as diabetes is a disorder of the pancreas, mental illness is a medical condition due to the brainâ€™s biology.\\nSimilarly to how one would treat diabetes with medication and insulin, mental illness is treatable with a combination of medication and social support. These treatments are highly effective, with 70-90 percent of individuals receiving treatment experiencing a reduction in symptoms and an improved quality of life. With the proper treatment, it is very possible for a person with mental illness to be independent and successful.'}"
      ]
     },
     "execution_count": 7,
     "metadata": {},
     "output_type": "execute_result"
    }
   ],
   "source": [
    "print(len(documents))\n",
    "documents[0]\n"
   ]
  },
  {
   "cell_type": "markdown",
   "id": "06d07a1f-7d0d-44f1-a77d-96b8d79f0055",
   "metadata": {},
   "source": [
    "### Minsearch"
   ]
  },
  {
   "cell_type": "code",
   "execution_count": 12,
   "id": "17a1adb3-32f2-46b1-b46e-9f5f9771ff58",
   "metadata": {},
   "outputs": [],
   "source": [
    "# I decided not to use keywords as I discovered that it was helping with hit rate but slightly lowering it"
   ]
  },
  {
   "cell_type": "code",
   "execution_count": 14,
   "id": "a29e0bad-a82e-4b4d-bbbd-07bbf906903e",
   "metadata": {},
   "outputs": [],
   "source": [
    "index = minsearch.Index(\n",
    "    text_fields=['Answers'],\n",
    "    keyword_fields=['Questions']\n",
    ")"
   ]
  },
  {
   "cell_type": "code",
   "execution_count": null,
   "id": "9b61a97d-d7a5-4c79-bc4f-580eb4e85ed8",
   "metadata": {},
   "outputs": [],
   "source": []
  },
  {
   "cell_type": "code",
   "execution_count": 15,
   "id": "983e54e9-2c7b-4848-8482-19d4cf589a49",
   "metadata": {},
   "outputs": [
    {
     "data": {
      "text/plain": [
       "<minsearch.Index at 0x215c660b040>"
      ]
     },
     "execution_count": 15,
     "metadata": {},
     "output_type": "execute_result"
    }
   ],
   "source": [
    "index"
   ]
  },
  {
   "cell_type": "code",
   "execution_count": 16,
   "id": "341a55cb-be6e-48ac-9a8f-15e72cae0f16",
   "metadata": {},
   "outputs": [
    {
     "data": {
      "text/plain": [
       "<minsearch.Index at 0x215c660b040>"
      ]
     },
     "execution_count": 16,
     "metadata": {},
     "output_type": "execute_result"
    }
   ],
   "source": [
    "index.fit(documents)"
   ]
  },
  {
   "cell_type": "code",
   "execution_count": 17,
   "id": "0a56dcae-f7aa-4b0a-902e-02f31686f0bb",
   "metadata": {},
   "outputs": [
    {
     "data": {
      "text/plain": [
       "['Answers']"
      ]
     },
     "execution_count": 17,
     "metadata": {},
     "output_type": "execute_result"
    }
   ],
   "source": [
    "index.text_fields"
   ]
  },
  {
   "cell_type": "markdown",
   "id": "27f726cf-66d5-48f3-b9f0-0ca6e0a5569c",
   "metadata": {},
   "source": [
    "## RAG Flow"
   ]
  },
  {
   "cell_type": "code",
   "execution_count": 20,
   "id": "acb1a91f-efac-4e76-8671-b02840b45561",
   "metadata": {},
   "outputs": [],
   "source": [
    "client = OpenAI()"
   ]
  },
  {
   "cell_type": "code",
   "execution_count": 45,
   "id": "477dc7f6-b597-4938-b478-e1c64e32587d",
   "metadata": {},
   "outputs": [],
   "source": [
    "query = 'What are the symptoms of mental illness?'"
   ]
  },
  {
   "cell_type": "code",
   "execution_count": 46,
   "id": "5ed55640-6a68-4d51-bca4-872f8a6d0398",
   "metadata": {},
   "outputs": [],
   "source": [
    "def search(query):\n",
    "    boost = {}\n",
    "\n",
    "    results = index.search(\n",
    "        query=query,\n",
    "        filter_dict={},\n",
    "        boost_dict=boost,\n",
    "        num_results=5\n",
    "    )\n",
    "\n",
    "    return results"
   ]
  },
  {
   "cell_type": "code",
   "execution_count": 47,
   "id": "da200554-c9b4-4c25-bb3c-2669be2b548a",
   "metadata": {},
   "outputs": [
    {
     "data": {
      "text/plain": [
       "[{'Question_ID': 1259439,\n",
       "  'Questions': 'If I become involved in treatment what do I need to know?',\n",
       "  'Answers': 'Beginning treatment is a big step for individuals and families and can be very overwhelming. It is important to continue involvement in the treatment process as much as possible. Some questions you will need to have answered include:\\nWhat is known about the cause of this particular illness?\\nAre there other diagnoses where these symptoms are common?\\nDo you normally include a physical or neurological examination?\\nAre there any additional tests or exams that you would recommend at this point?\\nWould you advise an independent opinion from another psychiatrist at this point?\\nWhat program of treatment is the most helpful with this diagnosis?\\nWill this program involve services by other specialists? If so, who will be responsible for coordinating these services?\\nWhat do you see as the familyâ€™s role in this program of treatment?\\nHow much access will the family have to the individuals who are providing the treatment?\\nWhat medications are generally used with this diagnosis? What is the biological effect of this medication, and what do you expect it to accomplish? What are the risks associated with the medication? How soon will we be able to tell if the medication is effective, and how will we know?\\nHow much experience do you have in treating individuals with this illness?\\nWhat can I do to help you in the treatment?'},\n",
       " {'Question_ID': 6361820,\n",
       "  'Questions': 'What causes mental illness?',\n",
       "  'Answers': 'It is estimated that mental illness affects 1 in 5 adults in America, and that 1 in 24 adults have a serious mental illness. Mental illness does not discriminate; it can affect anyone, regardless of gender, age, income, social status, ethnicity, religion, sexual orientation, or background. Although mental illness can affect anyone, certain conditions may be more common in different populations. For instance, eating disorders tend to occur more often in females, while disorders such as attention deficit/hyperactivity disorder is more prevalent in children. Additionally, all ages are susceptible, but the young and the old are especially vulnerable. Mental illnesses usually strike individuals in the prime of their lives, with 75 percent of mental health conditions developing by the age of 24. This makes identification and treatment of mental disorders particularly difficult, because the normal personality and behavioral changes of adolescence may mask symptoms of a mental health condition. Parents and caretakers should be aware of this fact, and take notice of changes in their child’s mood, personality, personal habits, and social withdrawal. When these occur in children under 18, they are referred to as serious emotional disturbances (SEDs).'},\n",
       " {'Question_ID': 2110618,\n",
       "  'Questions': 'Who does mental illness affect?',\n",
       "  'Answers': 'It is estimated that mental illness affects 1 in 5 adults in America, and that 1 in 24 adults have a serious mental illness. Mental illness does not discriminate; it can affect anyone, regardless of gender, age, income, social status, ethnicity, religion, sexual orientation, or background.\\nAlthough mental illness can affect anyone, certain conditions may be more common in different populations. For instance, eating disorders tend to occur more often in females, while disorders such as attention deficit/hyperactivity disorder is more prevalent in children.\\nAdditionally, all ages are susceptible, but the young and the old are especially vulnerable. Mental illnesses usually strike individuals in the prime of their lives, with 75 percent of mental health conditions developing by the age of 24. This makes identification and treatment of mental disorders particularly difficult, because the normal personality and behavioral changes of adolescence may mask symptoms of a mental health condition.\\nParents and caretakers should be aware of this fact, and take notice of changes in their childâ€™s mood, personality, personal habits, and social withdrawal. When these occur in children under 18, they are referred to as serious emotional disturbances (SEDs).'},\n",
       " {'Question_ID': 4962901,\n",
       "  'Questions': 'What is a prodrome?',\n",
       "  'Answers': 'Prodrome is a medical term for early signs or symptoms of an illness or health problem that appear before the major signs or symptoms start. \\n Psychosis, a group of symptoms found in disorders like schizophrenia, is one illness with a specific prodrome. With psychosis, prodrome signs and symptoms start before full symptoms like hallucinations and delusions appear. \\n Common symptoms in the prodrome of psychosis include: \\n These symptoms are found in many other mental illnesses, so it isn’t always clear at the time if this is a prodrome of psychosis or schizophrenia or something else. It’s best to seek help whenever you are concerned about your mental health or a loved one’s mental health. Psychosis and schizophrenia are much easier to manage and treat when treatment starts early.'},\n",
       " {'Question_ID': 7995219,\n",
       "  'Questions': \"What's the difference between mental health and mental illness?\",\n",
       "  'Answers': '‘Mental health’ and ‘mental illness’ are increasingly being used as if they mean the same thing, but they do not. Everyone has mental health, just like everyone has health. As the World Health Organization famously says, “There is no health without mental health.” In the course of a lifetime, not all people will experience a mental illness, but everyone will struggle or have a challenge with their mental well-being (i.e., their mental health) just like we all have challenges with our physical well-being from time to time. \\n When we talk about mental health, we’re talking about our mental well-being: our emotions, our thoughts and feelings, our ability to solve problems and overcome difficulties, our social connections, and our understanding of the world around us. \\n A mental illness is an illness the affects that way people think, feel, behave, or interact with others. There are many different mental illnesses, and they have different symptoms that impact peoples’ lives in different ways. \\n Health isn’t like an on/off switch. There are different degrees of health. People move on a continuum ranging from great or good health to so-so health to poor health to illness or disability. For example, some people have good health and have no problems going about their lives. Some people experience serious health problems, and their poor health has a very negative impact on their life. Some people have serious health problems that last for a long time, and others have serious health problems that resolve very quickly. Many people fall somewhere in the middle—they’re generally in good health, though the occasional problem may come up. Mental health is the same way. \\n Just as someone who feels unwell may not have a serious illness, people may have poor mental health without a mental illness. We all have days where we feel a bit down, or stressed out, or overwhelmed by something that’s happening in our lives. An important part of good mental health is the ability to look at problems or concerns realistically. Good mental health isn’t about feeling happy and confident 100% of time and ignoring any problems. It’s about living and coping well despite problems. \\n Just as it’s possible to have poor mental health but no mental illness, it’s entirely possible to have good mental health even with a diagnosis of a mental illness. That’s because mental illnesses (like other health problems) are often episodic, meaning there are times (‘episodes’) of ill health and times of better or good health. \\n With the right supports and tools, anyone can live well—however they define well—and find meaning, contribute to their communities, and work towards their goals.'}]"
      ]
     },
     "execution_count": 47,
     "metadata": {},
     "output_type": "execute_result"
    }
   ],
   "source": [
    "search(query)"
   ]
  },
  {
   "cell_type": "code",
   "execution_count": 48,
   "id": "6250adf1-12b3-480f-b33d-c3ec6608b904",
   "metadata": {},
   "outputs": [
    {
     "data": {
      "text/plain": [
       "'Symptoms of mental illness can vary widely depending on the specific disorder, but there are some common signs that may indicate the presence of a mental health condition. Here are some general symptoms:\\n\\n1. **Emotional Symptoms:**\\n   - Persistent sadness or low mood\\n   - Excessive worry or anxiety\\n   - Irritability or mood swings\\n   - Feelings of hopelessness or helplessness\\n   - Emotional numbness or detachment\\n\\n2. **Cognitive Symptoms:**\\n   - Difficulty concentrating or making decisions\\n   - Memory problems\\n   - Paranoia or unfounded fears\\n   - Delusions or false beliefs\\n   - Hallucinations (seeing or hearing things that are not there)\\n\\n3. **Behavioral Symptoms:**\\n   - Social withdrawal or isolation\\n   - Changes in appetite or weight\\n   - Changes in sleep patterns (insomnia or excessive sleeping)\\n   - Decline in work performance or academic achievement\\n   - Increased use of substances like alcohol or drugs\\n\\n4. **Physical Symptoms:**\\n   - Unexplained physical symptoms (headaches, stomachaches) without a clear medical cause\\n   - Fatigue or lack of energy\\n   - Changes in personal hygiene or appearance\\n\\n5. **Changes in Patterns of Thinking:**\\n   - Rigid thinking or inability to adapt to new situations\\n   - Overgeneralizing or catastrophizing situations\\n   - Negative self-talk or self-loathing\\n\\nIt’s important to note that the presence of one or more of these symptoms does not necessarily mean someone has a mental illness. Diagnosis should be made by a qualified mental health professional after a comprehensive evaluation. If you or someone you know is experiencing significant distress or impairment in daily functioning, it’s essential to seek professional help.'"
      ]
     },
     "execution_count": 48,
     "metadata": {},
     "output_type": "execute_result"
    }
   ],
   "source": [
    "## LLM response\n",
    "response = client.chat.completions.create(\n",
    "    model='gpt-4o-mini',\n",
    "    messages=[{\"role\": \"user\", \"content\": query}]\n",
    ")\n",
    "\n",
    "response.choices[0].message.content\n"
   ]
  },
  {
   "cell_type": "code",
   "execution_count": 49,
   "id": "e71f98d5-c162-4700-9ca7-2f9d6e8abd78",
   "metadata": {},
   "outputs": [
    {
     "name": "stdout",
     "output_type": "stream",
     "text": [
      "Symptoms of mental illness can vary widely depending on the specific disorder, but there are some common signs that may indicate the presence of a mental health condition. Here are some general symptoms:\n",
      "\n",
      "1. **Emotional Symptoms:**\n",
      "   - Persistent sadness or low mood\n",
      "   - Excessive worry or anxiety\n",
      "   - Irritability or mood swings\n",
      "   - Feelings of hopelessness or helplessness\n",
      "   - Emotional numbness or detachment\n",
      "\n",
      "2. **Cognitive Symptoms:**\n",
      "   - Difficulty concentrating or making decisions\n",
      "   - Memory problems\n",
      "   - Paranoia or unfounded fears\n",
      "   - Delusions or false beliefs\n",
      "   - Hallucinations (seeing or hearing things that are not there)\n",
      "\n",
      "3. **Behavioral Symptoms:**\n",
      "   - Social withdrawal or isolation\n",
      "   - Changes in appetite or weight\n",
      "   - Changes in sleep patterns (insomnia or excessive sleeping)\n",
      "   - Decline in work performance or academic achievement\n",
      "   - Increased use of substances like alcohol or drugs\n",
      "\n",
      "4. **Physical Symptoms:**\n",
      "   - Unexplained physical symptoms (headaches, stomachaches) without a clear medical cause\n",
      "   - Fatigue or lack of energy\n",
      "   - Changes in personal hygiene or appearance\n",
      "\n",
      "5. **Changes in Patterns of Thinking:**\n",
      "   - Rigid thinking or inability to adapt to new situations\n",
      "   - Overgeneralizing or catastrophizing situations\n",
      "   - Negative self-talk or self-loathing\n",
      "\n",
      "It’s important to note that the presence of one or more of these symptoms does not necessarily mean someone has a mental illness. Diagnosis should be made by a qualified mental health professional after a comprehensive evaluation. If you or someone you know is experiencing significant distress or impairment in daily functioning, it’s essential to seek professional help.\n"
     ]
    }
   ],
   "source": [
    "print(_)"
   ]
  },
  {
   "cell_type": "code",
   "execution_count": 56,
   "id": "bc9c465f-519c-4458-b1e5-79b947777dbf",
   "metadata": {},
   "outputs": [],
   "source": [
    "def build_prompt(query, search_results):\n",
    "    prompt_template = \"\"\"\n",
    "    You're a mental health psychiatrist. Answer the QUESTION based on the CONTEXT from our mental questions and answer database.\n",
    "    Use only the facts from the CONTEXT when answering the QUESTION.\n",
    "    \n",
    "    QUESTION: {question}\n",
    "    \n",
    "    CONTEXT:\n",
    "    {context}\n",
    "    \"\"\".strip()\n",
    "    \n",
    "    entry_template = \"\"\"\n",
    "    ANSWER: {Answers}\n",
    "    \"\"\".strip()\n",
    "    context = \"\"\n",
    "    \n",
    "    for doc in search_results:\n",
    "        context = context + entry_template.format(**doc) + \"\\n\\n\"\n",
    "\n",
    "    prompt = prompt_template.format(question=query, context=context).strip()\n",
    "    return prompt"
   ]
  },
  {
   "cell_type": "code",
   "execution_count": null,
   "id": "c824867a-b512-4eff-8271-4833efea2944",
   "metadata": {},
   "outputs": [],
   "source": []
  },
  {
   "cell_type": "code",
   "execution_count": 57,
   "id": "ac0c2121-9468-4f30-b12e-86b6fb31a176",
   "metadata": {},
   "outputs": [
    {
     "data": {
      "text/plain": [
       "\"You're a mental health psychiatrist. Answer the QUESTION based on the CONTEXT from our mental questions and answer database.\\n    Use only the facts from the CONTEXT when answering the QUESTION.\\n    \\n    QUESTION: what are the symptoms of mental illness?\\n    \\n    CONTEXT:\\n    ANSWER: Beginning treatment is a big step for individuals and families and can be very overwhelming. It is important to continue involvement in the treatment process as much as possible. Some questions you will need to have answered include:\\nWhat is known about the cause of this particular illness?\\nAre there other diagnoses where these symptoms are common?\\nDo you normally include a physical or neurological examination?\\nAre there any additional tests or exams that you would recommend at this point?\\nWould you advise an independent opinion from another psychiatrist at this point?\\nWhat program of treatment is the most helpful with this diagnosis?\\nWill this program involve services by other specialists? If so, who will be responsible for coordinating these services?\\nWhat do you see as the familyâ€™s role in this program of treatment?\\nHow much access will the family have to the individuals who are providing the treatment?\\nWhat medications are generally used with this diagnosis? What is the biological effect of this medication, and what do you expect it to accomplish? What are the risks associated with the medication? How soon will we be able to tell if the medication is effective, and how will we know?\\nHow much experience do you have in treating individuals with this illness?\\nWhat can I do to help you in the treatment?\\n\\nANSWER: It is estimated that mental illness affects 1 in 5 adults in America, and that 1 in 24 adults have a serious mental illness. Mental illness does not discriminate; it can affect anyone, regardless of gender, age, income, social status, ethnicity, religion, sexual orientation, or background. Although mental illness can affect anyone, certain conditions may be more common in different populations. For instance, eating disorders tend to occur more often in females, while disorders such as attention deficit/hyperactivity disorder is more prevalent in children. Additionally, all ages are susceptible, but the young and the old are especially vulnerable. Mental illnesses usually strike individuals in the prime of their lives, with 75 percent of mental health conditions developing by the age of 24. This makes identification and treatment of mental disorders particularly difficult, because the normal personality and behavioral changes of adolescence may mask symptoms of a mental health condition. Parents and caretakers should be aware of this fact, and take notice of changes in their child’s mood, personality, personal habits, and social withdrawal. When these occur in children under 18, they are referred to as serious emotional disturbances (SEDs).\\n\\nANSWER: It is estimated that mental illness affects 1 in 5 adults in America, and that 1 in 24 adults have a serious mental illness. Mental illness does not discriminate; it can affect anyone, regardless of gender, age, income, social status, ethnicity, religion, sexual orientation, or background.\\nAlthough mental illness can affect anyone, certain conditions may be more common in different populations. For instance, eating disorders tend to occur more often in females, while disorders such as attention deficit/hyperactivity disorder is more prevalent in children.\\nAdditionally, all ages are susceptible, but the young and the old are especially vulnerable. Mental illnesses usually strike individuals in the prime of their lives, with 75 percent of mental health conditions developing by the age of 24. This makes identification and treatment of mental disorders particularly difficult, because the normal personality and behavioral changes of adolescence may mask symptoms of a mental health condition.\\nParents and caretakers should be aware of this fact, and take notice of changes in their childâ€™s mood, personality, personal habits, and social withdrawal. When these occur in children under 18, they are referred to as serious emotional disturbances (SEDs).\\n\\nANSWER: Prodrome is a medical term for early signs or symptoms of an illness or health problem that appear before the major signs or symptoms start. \\n Psychosis, a group of symptoms found in disorders like schizophrenia, is one illness with a specific prodrome. With psychosis, prodrome signs and symptoms start before full symptoms like hallucinations and delusions appear. \\n Common symptoms in the prodrome of psychosis include: \\n These symptoms are found in many other mental illnesses, so it isn’t always clear at the time if this is a prodrome of psychosis or schizophrenia or something else. It’s best to seek help whenever you are concerned about your mental health or a loved one’s mental health. Psychosis and schizophrenia are much easier to manage and treat when treatment starts early.\\n\\nANSWER: ‘Mental health’ and ‘mental illness’ are increasingly being used as if they mean the same thing, but they do not. Everyone has mental health, just like everyone has health. As the World Health Organization famously says, “There is no health without mental health.” In the course of a lifetime, not all people will experience a mental illness, but everyone will struggle or have a challenge with their mental well-being (i.e., their mental health) just like we all have challenges with our physical well-being from time to time. \\n When we talk about mental health, we’re talking about our mental well-being: our emotions, our thoughts and feelings, our ability to solve problems and overcome difficulties, our social connections, and our understanding of the world around us. \\n A mental illness is an illness the affects that way people think, feel, behave, or interact with others. There are many different mental illnesses, and they have different symptoms that impact peoples’ lives in different ways. \\n Health isn’t like an on/off switch. There are different degrees of health. People move on a continuum ranging from great or good health to so-so health to poor health to illness or disability. For example, some people have good health and have no problems going about their lives. Some people experience serious health problems, and their poor health has a very negative impact on their life. Some people have serious health problems that last for a long time, and others have serious health problems that resolve very quickly. Many people fall somewhere in the middle—they’re generally in good health, though the occasional problem may come up. Mental health is the same way. \\n Just as someone who feels unwell may not have a serious illness, people may have poor mental health without a mental illness. We all have days where we feel a bit down, or stressed out, or overwhelmed by something that’s happening in our lives. An important part of good mental health is the ability to look at problems or concerns realistically. Good mental health isn’t about feeling happy and confident 100% of time and ignoring any problems. It’s about living and coping well despite problems. \\n Just as it’s possible to have poor mental health but no mental illness, it’s entirely possible to have good mental health even with a diagnosis of a mental illness. That’s because mental illnesses (like other health problems) are often episodic, meaning there are times (‘episodes’) of ill health and times of better or good health. \\n With the right supports and tools, anyone can live well—however they define well—and find meaning, contribute to their communities, and work towards their goals.\""
      ]
     },
     "execution_count": 57,
     "metadata": {},
     "output_type": "execute_result"
    }
   ],
   "source": [
    "query='what are the symptoms of mental illness?'\n",
    "search_results=search(query)\n",
    "build_prompt(query, search_results)"
   ]
  },
  {
   "cell_type": "code",
   "execution_count": 58,
   "id": "773b99bf-f091-456b-aca6-f14cb9b5bb84",
   "metadata": {},
   "outputs": [
    {
     "name": "stdout",
     "output_type": "stream",
     "text": [
      "You're a mental health psychiatrist. Answer the QUESTION based on the CONTEXT from our mental questions and answer database.\n",
      "    Use only the facts from the CONTEXT when answering the QUESTION.\n",
      "    \n",
      "    QUESTION: what are the symptoms of mental illness?\n",
      "    \n",
      "    CONTEXT:\n",
      "    ANSWER: Beginning treatment is a big step for individuals and families and can be very overwhelming. It is important to continue involvement in the treatment process as much as possible. Some questions you will need to have answered include:\n",
      "What is known about the cause of this particular illness?\n",
      "Are there other diagnoses where these symptoms are common?\n",
      "Do you normally include a physical or neurological examination?\n",
      "Are there any additional tests or exams that you would recommend at this point?\n",
      "Would you advise an independent opinion from another psychiatrist at this point?\n",
      "What program of treatment is the most helpful with this diagnosis?\n",
      "Will this program involve services by other specialists? If so, who will be responsible for coordinating these services?\n",
      "What do you see as the familyâ€™s role in this program of treatment?\n",
      "How much access will the family have to the individuals who are providing the treatment?\n",
      "What medications are generally used with this diagnosis? What is the biological effect of this medication, and what do you expect it to accomplish? What are the risks associated with the medication? How soon will we be able to tell if the medication is effective, and how will we know?\n",
      "How much experience do you have in treating individuals with this illness?\n",
      "What can I do to help you in the treatment?\n",
      "\n",
      "ANSWER: It is estimated that mental illness affects 1 in 5 adults in America, and that 1 in 24 adults have a serious mental illness. Mental illness does not discriminate; it can affect anyone, regardless of gender, age, income, social status, ethnicity, religion, sexual orientation, or background. Although mental illness can affect anyone, certain conditions may be more common in different populations. For instance, eating disorders tend to occur more often in females, while disorders such as attention deficit/hyperactivity disorder is more prevalent in children. Additionally, all ages are susceptible, but the young and the old are especially vulnerable. Mental illnesses usually strike individuals in the prime of their lives, with 75 percent of mental health conditions developing by the age of 24. This makes identification and treatment of mental disorders particularly difficult, because the normal personality and behavioral changes of adolescence may mask symptoms of a mental health condition. Parents and caretakers should be aware of this fact, and take notice of changes in their child’s mood, personality, personal habits, and social withdrawal. When these occur in children under 18, they are referred to as serious emotional disturbances (SEDs).\n",
      "\n",
      "ANSWER: It is estimated that mental illness affects 1 in 5 adults in America, and that 1 in 24 adults have a serious mental illness. Mental illness does not discriminate; it can affect anyone, regardless of gender, age, income, social status, ethnicity, religion, sexual orientation, or background.\n",
      "Although mental illness can affect anyone, certain conditions may be more common in different populations. For instance, eating disorders tend to occur more often in females, while disorders such as attention deficit/hyperactivity disorder is more prevalent in children.\n",
      "Additionally, all ages are susceptible, but the young and the old are especially vulnerable. Mental illnesses usually strike individuals in the prime of their lives, with 75 percent of mental health conditions developing by the age of 24. This makes identification and treatment of mental disorders particularly difficult, because the normal personality and behavioral changes of adolescence may mask symptoms of a mental health condition.\n",
      "Parents and caretakers should be aware of this fact, and take notice of changes in their childâ€™s mood, personality, personal habits, and social withdrawal. When these occur in children under 18, they are referred to as serious emotional disturbances (SEDs).\n",
      "\n",
      "ANSWER: Prodrome is a medical term for early signs or symptoms of an illness or health problem that appear before the major signs or symptoms start. \n",
      " Psychosis, a group of symptoms found in disorders like schizophrenia, is one illness with a specific prodrome. With psychosis, prodrome signs and symptoms start before full symptoms like hallucinations and delusions appear. \n",
      " Common symptoms in the prodrome of psychosis include: \n",
      " These symptoms are found in many other mental illnesses, so it isn’t always clear at the time if this is a prodrome of psychosis or schizophrenia or something else. It’s best to seek help whenever you are concerned about your mental health or a loved one’s mental health. Psychosis and schizophrenia are much easier to manage and treat when treatment starts early.\n",
      "\n",
      "ANSWER: ‘Mental health’ and ‘mental illness’ are increasingly being used as if they mean the same thing, but they do not. Everyone has mental health, just like everyone has health. As the World Health Organization famously says, “There is no health without mental health.” In the course of a lifetime, not all people will experience a mental illness, but everyone will struggle or have a challenge with their mental well-being (i.e., their mental health) just like we all have challenges with our physical well-being from time to time. \n",
      " When we talk about mental health, we’re talking about our mental well-being: our emotions, our thoughts and feelings, our ability to solve problems and overcome difficulties, our social connections, and our understanding of the world around us. \n",
      " A mental illness is an illness the affects that way people think, feel, behave, or interact with others. There are many different mental illnesses, and they have different symptoms that impact peoples’ lives in different ways. \n",
      " Health isn’t like an on/off switch. There are different degrees of health. People move on a continuum ranging from great or good health to so-so health to poor health to illness or disability. For example, some people have good health and have no problems going about their lives. Some people experience serious health problems, and their poor health has a very negative impact on their life. Some people have serious health problems that last for a long time, and others have serious health problems that resolve very quickly. Many people fall somewhere in the middle—they’re generally in good health, though the occasional problem may come up. Mental health is the same way. \n",
      " Just as someone who feels unwell may not have a serious illness, people may have poor mental health without a mental illness. We all have days where we feel a bit down, or stressed out, or overwhelmed by something that’s happening in our lives. An important part of good mental health is the ability to look at problems or concerns realistically. Good mental health isn’t about feeling happy and confident 100% of time and ignoring any problems. It’s about living and coping well despite problems. \n",
      " Just as it’s possible to have poor mental health but no mental illness, it’s entirely possible to have good mental health even with a diagnosis of a mental illness. That’s because mental illnesses (like other health problems) are often episodic, meaning there are times (‘episodes’) of ill health and times of better or good health. \n",
      " With the right supports and tools, anyone can live well—however they define well—and find meaning, contribute to their communities, and work towards their goals.\n"
     ]
    }
   ],
   "source": [
    "print(_)"
   ]
  },
  {
   "cell_type": "code",
   "execution_count": 59,
   "id": "c907faaf-a485-46ad-9060-124443fa2752",
   "metadata": {},
   "outputs": [],
   "source": [
    "def llm(prompt, model='gpt-4o-mini'):\n",
    "    response = client.chat.completions.create(\n",
    "        model=model,\n",
    "        messages=[{\"role\": \"user\", \"content\": prompt}]\n",
    "    )\n",
    "    \n",
    "    return response.choices[0].message.content"
   ]
  },
  {
   "cell_type": "code",
   "execution_count": 60,
   "id": "397591c9-4df9-47ab-b277-01011c0603a9",
   "metadata": {},
   "outputs": [],
   "source": [
    "query='What are the symptoms of mental illness?'\n",
    "def rag(query, model='gpt-4o-mini'):\n",
    "    search_results = search(query)\n",
    "    prompt = build_prompt(query, search_results)\n",
    "    #print(prompt)\n",
    "    answer = llm(prompt, model=model)\n",
    "    return answer\n",
    "\n"
   ]
  },
  {
   "cell_type": "code",
   "execution_count": 61,
   "id": "5b57145f-c05e-46a9-b245-77bfb93a3d16",
   "metadata": {},
   "outputs": [
    {
     "name": "stdout",
     "output_type": "stream",
     "text": [
      "The symptoms of mental illness can vary widely depending on the specific condition, but generally, they can impact the way a person thinks, feels, behaves, or interacts with others. Common signs to be aware of include changes in mood, personality shifts, alterations in personal habits, and social withdrawal. In children under 18, these symptoms might be categorized as serious emotional disturbances (SEDs). It's crucial for parents and caregivers to observe any changes in their child's emotional state, as mental illnesses often first manifest in adolescence or early adulthood.\n"
     ]
    }
   ],
   "source": [
    "print(rag(query))"
   ]
  },
  {
   "cell_type": "code",
   "execution_count": null,
   "id": "ec4ab9ef-8fd2-470b-b836-a46974ad01d4",
   "metadata": {},
   "outputs": [],
   "source": []
  },
  {
   "cell_type": "code",
   "execution_count": null,
   "id": "2c3401b9-37ff-458e-80b6-cc423237b143",
   "metadata": {},
   "outputs": [],
   "source": []
  },
  {
   "cell_type": "code",
   "execution_count": null,
   "id": "f4ce4a19-a321-469f-a474-a4345f5dd326",
   "metadata": {},
   "outputs": [],
   "source": []
  },
  {
   "cell_type": "code",
   "execution_count": null,
   "id": "6ee4380d-3328-4228-b570-0066cdfc97de",
   "metadata": {},
   "outputs": [],
   "source": []
  },
  {
   "cell_type": "code",
   "execution_count": null,
   "id": "899dcdbb-93b6-4821-8f48-ef8a74e6f324",
   "metadata": {},
   "outputs": [],
   "source": []
  },
  {
   "cell_type": "code",
   "execution_count": 30,
   "id": "999f955e-a507-4ba1-a4d6-315394238007",
   "metadata": {},
   "outputs": [],
   "source": [
    "import pandas as pd"
   ]
  },
  {
   "cell_type": "markdown",
   "id": "38bdb0d2-4ca6-4564-84e7-6cc4ee20a935",
   "metadata": {},
   "source": [
    "### Retrieval evaluation"
   ]
  },
  {
   "cell_type": "code",
   "execution_count": 62,
   "id": "cb4f7e6e-112a-4edd-a582-e84e82bc3fcd",
   "metadata": {},
   "outputs": [],
   "source": [
    "\n",
    "df_questions = pd.read_csv('../App/data/ground-truth-data.csv')"
   ]
  },
  {
   "cell_type": "code",
   "execution_count": 63,
   "id": "b9e4f21d-fd20-4e3a-866a-97eee735988d",
   "metadata": {},
   "outputs": [
    {
     "data": {
      "text/plain": [
       "485"
      ]
     },
     "execution_count": 63,
     "metadata": {},
     "output_type": "execute_result"
    }
   ],
   "source": [
    "ground_truth=df_questions.to_dict(orient='records')\n",
    "len(ground_truth)"
   ]
  },
  {
   "cell_type": "code",
   "execution_count": 64,
   "id": "bd268389-6545-444a-985a-5cee677df68e",
   "metadata": {},
   "outputs": [
    {
     "name": "stdout",
     "output_type": "stream",
     "text": [
      "What are the different levels of severity for mental illnesses?\n",
      "Can you explain how mental illnesses impact daily functioning?\n",
      "Are mental illnesses linked to a person's character or intelligence?\n",
      "What treatments are available for mental illnesses?\n",
      "How effective is treatment for individuals with mental illness?\n",
      "What percentage of mental health conditions develop by age 24?\n"
     ]
    },
    {
     "data": {
      "text/plain": [
       "list"
      ]
     },
     "execution_count": 64,
     "metadata": {},
     "output_type": "execute_result"
    }
   ],
   "source": [
    "len(ground_truth)\n",
    "for q in ground_truth[0:6]:\n",
    "    print(q['question'])\n",
    "type(ground_truth)"
   ]
  },
  {
   "cell_type": "code",
   "execution_count": 70,
   "id": "cd06964a-3455-415e-a1b3-cb57a70ef504",
   "metadata": {},
   "outputs": [
    {
     "data": {
      "text/plain": [
       "{'id': 1590140,\n",
       " 'question': 'What are the different levels of severity for mental illnesses?'}"
      ]
     },
     "execution_count": 70,
     "metadata": {},
     "output_type": "execute_result"
    }
   ],
   "source": [
    "ground_truth[0]"
   ]
  },
  {
   "cell_type": "code",
   "execution_count": 77,
   "id": "d641e326-5c48-46b1-97fb-93a06837dbb3",
   "metadata": {},
   "outputs": [],
   "source": [
    "def hit_rate(relevance_total):\n",
    "    cnt = 0\n",
    "\n",
    "    for line in relevance_total:\n",
    "        if True in line:\n",
    "            cnt = cnt + 1\n",
    "\n",
    "    return cnt / len(relevance_total)\n",
    "\n",
    "def mrr(relevance_total):\n",
    "    total_score = 0.0\n",
    "\n",
    "    for line in relevance_total:\n",
    "        for rank in range(len(line)):\n",
    "            if line[rank] == True:\n",
    "                total_score = total_score + 1 / (rank + 1)\n",
    "\n",
    "    return total_score / len(relevance_total)"
   ]
  },
  {
   "cell_type": "code",
   "execution_count": 78,
   "id": "cc09a27d-e890-490a-912b-f08f9922ef20",
   "metadata": {},
   "outputs": [],
   "source": [
    "def minsearch_search(query):\n",
    "    boost = {}\n",
    "\n",
    "    results = index.search(\n",
    "        query=query,\n",
    "        filter_dict={},\n",
    "        boost_dict=boost,\n",
    "        num_results=5\n",
    "    )\n",
    "\n",
    "    return results"
   ]
  },
  {
   "cell_type": "code",
   "execution_count": 82,
   "id": "673d9136-8be6-4e9d-8991-588da22fa00a",
   "metadata": {},
   "outputs": [],
   "source": [
    "def evaluate(ground_truth, search_function):\n",
    "    relevance_total = []\n",
    "\n",
    "    for q in tqdm(ground_truth):\n",
    "        doc_id = q['id']\n",
    "        results = search_function(q)\n",
    "        relevance = [d['Question_ID'] == doc_id for d in results]\n",
    "        relevance_total.append(relevance)\n",
    "\n",
    "    return {\n",
    "        'hit_rate': hit_rate(relevance_total),\n",
    "        'mrr': mrr(relevance_total),\n",
    "    }"
   ]
  },
  {
   "cell_type": "code",
   "execution_count": 83,
   "id": "b3eebcc9-f0e5-47df-83d9-23491b86fa44",
   "metadata": {},
   "outputs": [],
   "source": [
    "from tqdm.auto import tqdm"
   ]
  },
  {
   "cell_type": "code",
   "execution_count": 84,
   "id": "b208267a-e1aa-43d5-8aaf-e7528fc8a1c2",
   "metadata": {},
   "outputs": [
    {
     "data": {
      "application/vnd.jupyter.widget-view+json": {
       "model_id": "7e4be945888d4732b01d8bf9841e2d6f",
       "version_major": 2,
       "version_minor": 0
      },
      "text/plain": [
       "  0%|          | 0/485 [00:00<?, ?it/s]"
      ]
     },
     "metadata": {},
     "output_type": "display_data"
    },
    {
     "data": {
      "text/plain": [
       "{'hit_rate': 0.9134020618556701, 'mrr': 0.7261168384879727}"
      ]
     },
     "execution_count": 84,
     "metadata": {},
     "output_type": "execute_result"
    }
   ],
   "source": [
    "evaluate(ground_truth, lambda q: minsearch_search(q['question']))"
   ]
  },
  {
   "cell_type": "markdown",
   "id": "4da1ab90-92e8-4e8e-b4ce-91db57ff5abf",
   "metadata": {},
   "source": [
    "### Finding the best parameters"
   ]
  },
  {
   "cell_type": "code",
   "execution_count": 85,
   "id": "64019bd7-fc1d-4485-b76a-001f0021e80c",
   "metadata": {},
   "outputs": [],
   "source": [
    "df_validation = df_questions[:100]\n",
    "df_test = df_questions[100:]"
   ]
  },
  {
   "cell_type": "code",
   "execution_count": 86,
   "id": "a81f8226-2c55-446e-a980-c4ad8c007f20",
   "metadata": {},
   "outputs": [],
   "source": [
    "import random\n",
    "\n",
    "def simple_optimize(param_ranges, objective_function, n_iterations=10):\n",
    "    best_params = None\n",
    "    best_score = float('-inf')  # Assuming we're minimizing. Use float('-inf') if maximizing.\n",
    "\n",
    "    for _ in range(n_iterations):\n",
    "        # Generate random parameters\n",
    "        current_params = {}\n",
    "        for param, (min_val, max_val) in param_ranges.items():\n",
    "            if isinstance(min_val, int) and isinstance(max_val, int):\n",
    "                current_params[param] = random.randint(min_val, max_val)\n",
    "            else:\n",
    "                current_params[param] = random.uniform(min_val, max_val)\n",
    "        \n",
    "        # Evaluate the objective function\n",
    "        current_score = objective_function(current_params)\n",
    "        \n",
    "        # Update best if current is better\n",
    "        if current_score > best_score:  # Change to > if maximizing\n",
    "            best_score = current_score\n",
    "            best_params = current_params\n",
    "    \n",
    "    return best_params, best_score"
   ]
  },
  {
   "cell_type": "code",
   "execution_count": 87,
   "id": "0c6dab3e-4fde-43f3-bfa2-9cdc178d309d",
   "metadata": {},
   "outputs": [],
   "source": [
    "gt_val = df_validation.to_dict(orient='records')"
   ]
  },
  {
   "cell_type": "code",
   "execution_count": 88,
   "id": "81c09c4c-228c-404e-ab87-21e4ce04c5e5",
   "metadata": {},
   "outputs": [],
   "source": [
    "def minsearch_search(query, boost=None):\n",
    "    if boost is None:\n",
    "        boost = {}\n",
    "\n",
    "    results = index.search(\n",
    "        query=query,\n",
    "        filter_dict={},\n",
    "        boost_dict=boost,\n",
    "        num_results=10\n",
    "    )\n",
    "\n",
    "    return results"
   ]
  },
  {
   "cell_type": "code",
   "execution_count": 89,
   "id": "e4df0cc6-c6c3-41a7-99fb-f7e5ead85e2d",
   "metadata": {},
   "outputs": [],
   "source": [
    "param_ranges = {\n",
    "    'Answers': (0.0, 4.0),\n",
    "    \n",
    "    \n",
    "}\n",
    "\n",
    "def objective(boost_params):\n",
    "    def search_function(q):\n",
    "        return minsearch_search(q['question'], boost_params)\n",
    "\n",
    "    results = evaluate(gt_val, search_function)\n",
    "    return results['mrr']"
   ]
  },
  {
   "cell_type": "code",
   "execution_count": 90,
   "id": "7d45dee4-ed23-4a5a-ba4f-300db9d29c7d",
   "metadata": {},
   "outputs": [
    {
     "data": {
      "application/vnd.jupyter.widget-view+json": {
       "model_id": "73f7ad1bbe044472946a1e6f495d50f6",
       "version_major": 2,
       "version_minor": 0
      },
      "text/plain": [
       "  0%|          | 0/100 [00:00<?, ?it/s]"
      ]
     },
     "metadata": {},
     "output_type": "display_data"
    },
    {
     "data": {
      "application/vnd.jupyter.widget-view+json": {
       "model_id": "3bf967a417424f80920dfd15ba4c9798",
       "version_major": 2,
       "version_minor": 0
      },
      "text/plain": [
       "  0%|          | 0/100 [00:00<?, ?it/s]"
      ]
     },
     "metadata": {},
     "output_type": "display_data"
    },
    {
     "data": {
      "application/vnd.jupyter.widget-view+json": {
       "model_id": "57cb4f2185a74d04b275635f92ae7956",
       "version_major": 2,
       "version_minor": 0
      },
      "text/plain": [
       "  0%|          | 0/100 [00:00<?, ?it/s]"
      ]
     },
     "metadata": {},
     "output_type": "display_data"
    },
    {
     "data": {
      "application/vnd.jupyter.widget-view+json": {
       "model_id": "879d46e34b1a4b399f3f728cda65f38b",
       "version_major": 2,
       "version_minor": 0
      },
      "text/plain": [
       "  0%|          | 0/100 [00:00<?, ?it/s]"
      ]
     },
     "metadata": {},
     "output_type": "display_data"
    },
    {
     "data": {
      "application/vnd.jupyter.widget-view+json": {
       "model_id": "7299b572d70448a5b736377c276f61f9",
       "version_major": 2,
       "version_minor": 0
      },
      "text/plain": [
       "  0%|          | 0/100 [00:00<?, ?it/s]"
      ]
     },
     "metadata": {},
     "output_type": "display_data"
    },
    {
     "data": {
      "application/vnd.jupyter.widget-view+json": {
       "model_id": "5a5e2499ec094fbd82dfb3a1c9c2c7a5",
       "version_major": 2,
       "version_minor": 0
      },
      "text/plain": [
       "  0%|          | 0/100 [00:00<?, ?it/s]"
      ]
     },
     "metadata": {},
     "output_type": "display_data"
    },
    {
     "data": {
      "application/vnd.jupyter.widget-view+json": {
       "model_id": "303cb41c639f4144817e0aeba1f7211f",
       "version_major": 2,
       "version_minor": 0
      },
      "text/plain": [
       "  0%|          | 0/100 [00:00<?, ?it/s]"
      ]
     },
     "metadata": {},
     "output_type": "display_data"
    },
    {
     "data": {
      "application/vnd.jupyter.widget-view+json": {
       "model_id": "350a267268704797a9f4cceca9af7aa1",
       "version_major": 2,
       "version_minor": 0
      },
      "text/plain": [
       "  0%|          | 0/100 [00:00<?, ?it/s]"
      ]
     },
     "metadata": {},
     "output_type": "display_data"
    },
    {
     "data": {
      "application/vnd.jupyter.widget-view+json": {
       "model_id": "7d96bf900b7f40fbb1e2001dd7c0bca8",
       "version_major": 2,
       "version_minor": 0
      },
      "text/plain": [
       "  0%|          | 0/100 [00:00<?, ?it/s]"
      ]
     },
     "metadata": {},
     "output_type": "display_data"
    },
    {
     "data": {
      "application/vnd.jupyter.widget-view+json": {
       "model_id": "56281f7749ff47bd86bc3d827a606a95",
       "version_major": 2,
       "version_minor": 0
      },
      "text/plain": [
       "  0%|          | 0/100 [00:00<?, ?it/s]"
      ]
     },
     "metadata": {},
     "output_type": "display_data"
    },
    {
     "data": {
      "application/vnd.jupyter.widget-view+json": {
       "model_id": "5bbaaab39d7d44de8bed3e9eaa302a84",
       "version_major": 2,
       "version_minor": 0
      },
      "text/plain": [
       "  0%|          | 0/100 [00:00<?, ?it/s]"
      ]
     },
     "metadata": {},
     "output_type": "display_data"
    },
    {
     "data": {
      "application/vnd.jupyter.widget-view+json": {
       "model_id": "20525663facb47a4ba1a773aa95dd49d",
       "version_major": 2,
       "version_minor": 0
      },
      "text/plain": [
       "  0%|          | 0/100 [00:00<?, ?it/s]"
      ]
     },
     "metadata": {},
     "output_type": "display_data"
    },
    {
     "data": {
      "application/vnd.jupyter.widget-view+json": {
       "model_id": "fd43c450c23d4166b9474de8a8b8040d",
       "version_major": 2,
       "version_minor": 0
      },
      "text/plain": [
       "  0%|          | 0/100 [00:00<?, ?it/s]"
      ]
     },
     "metadata": {},
     "output_type": "display_data"
    },
    {
     "data": {
      "application/vnd.jupyter.widget-view+json": {
       "model_id": "a381e8bc5dc147678c6380d1a7892257",
       "version_major": 2,
       "version_minor": 0
      },
      "text/plain": [
       "  0%|          | 0/100 [00:00<?, ?it/s]"
      ]
     },
     "metadata": {},
     "output_type": "display_data"
    },
    {
     "data": {
      "application/vnd.jupyter.widget-view+json": {
       "model_id": "7ff26d4e0a524a9499b8070a14210e6e",
       "version_major": 2,
       "version_minor": 0
      },
      "text/plain": [
       "  0%|          | 0/100 [00:00<?, ?it/s]"
      ]
     },
     "metadata": {},
     "output_type": "display_data"
    },
    {
     "data": {
      "application/vnd.jupyter.widget-view+json": {
       "model_id": "5b50275b42ac4bcf89ab233e41906f11",
       "version_major": 2,
       "version_minor": 0
      },
      "text/plain": [
       "  0%|          | 0/100 [00:00<?, ?it/s]"
      ]
     },
     "metadata": {},
     "output_type": "display_data"
    },
    {
     "data": {
      "application/vnd.jupyter.widget-view+json": {
       "model_id": "34d7b17389b34ba0a532040d9d1b65d8",
       "version_major": 2,
       "version_minor": 0
      },
      "text/plain": [
       "  0%|          | 0/100 [00:00<?, ?it/s]"
      ]
     },
     "metadata": {},
     "output_type": "display_data"
    },
    {
     "data": {
      "application/vnd.jupyter.widget-view+json": {
       "model_id": "ba7f336229db4bfeb68882a6f7539583",
       "version_major": 2,
       "version_minor": 0
      },
      "text/plain": [
       "  0%|          | 0/100 [00:00<?, ?it/s]"
      ]
     },
     "metadata": {},
     "output_type": "display_data"
    },
    {
     "data": {
      "application/vnd.jupyter.widget-view+json": {
       "model_id": "5af6db3c8e024ad893badebb048b0f34",
       "version_major": 2,
       "version_minor": 0
      },
      "text/plain": [
       "  0%|          | 0/100 [00:00<?, ?it/s]"
      ]
     },
     "metadata": {},
     "output_type": "display_data"
    },
    {
     "data": {
      "application/vnd.jupyter.widget-view+json": {
       "model_id": "61a99a2f5f024d2eb9fc35179a561dd4",
       "version_major": 2,
       "version_minor": 0
      },
      "text/plain": [
       "  0%|          | 0/100 [00:00<?, ?it/s]"
      ]
     },
     "metadata": {},
     "output_type": "display_data"
    },
    {
     "data": {
      "text/plain": [
       "({'Answers': 3.001079082237011}, 0.6187460317460317)"
      ]
     },
     "execution_count": 90,
     "metadata": {},
     "output_type": "execute_result"
    }
   ],
   "source": [
    "simple_optimize(param_ranges, objective, n_iterations=20)"
   ]
  },
  {
   "cell_type": "code",
   "execution_count": 94,
   "id": "e61a1a7a-24d5-4393-addc-c878007d803d",
   "metadata": {},
   "outputs": [
    {
     "data": {
      "application/vnd.jupyter.widget-view+json": {
       "model_id": "43eb438034a94679a273a0a67e0532a1",
       "version_major": 2,
       "version_minor": 0
      },
      "text/plain": [
       "  0%|          | 0/485 [00:00<?, ?it/s]"
      ]
     },
     "metadata": {},
     "output_type": "display_data"
    },
    {
     "data": {
      "text/plain": [
       "{'hit_rate': 0.9134020618556701, 'mrr': 0.7261168384879727}"
      ]
     },
     "execution_count": 94,
     "metadata": {},
     "output_type": "execute_result"
    }
   ],
   "source": [
    "def minsearch_improved(query):\n",
    "    boost = {\n",
    "    'Answers':3.001079\n",
    "   \n",
    "    \n",
    "    }\n",
    "\n",
    "    results = index.search(\n",
    "        query=query,\n",
    "        filter_dict={},\n",
    "        boost_dict=boost,\n",
    "        num_results=5\n",
    "    )\n",
    "\n",
    "    return results\n",
    "\n",
    "evaluate(ground_truth, lambda q: minsearch_improved(q['question']))"
   ]
  },
  {
   "cell_type": "markdown",
   "id": "4bb3e339-07b4-4e28-80e2-632a770e5950",
   "metadata": {},
   "source": [
    "## RAG evaluation"
   ]
  },
  {
   "cell_type": "code",
   "execution_count": 95,
   "id": "a02ae322-57b2-4066-8331-b3e5e061bf4f",
   "metadata": {},
   "outputs": [],
   "source": [
    "prompt2_template = \"\"\"\n",
    "You are an expert evaluator for a RAG system.\n",
    "Your task is to analyze the relevance of the generated answer to the given question.\n",
    "Based on the relevance of the generated answer, you will classify it\n",
    "as \"NON_RELEVANT\", \"PARTLY_RELEVANT\", or \"RELEVANT\".\n",
    "\n",
    "Here is the data for evaluation:\n",
    "\n",
    "Question: {question}\n",
    "Generated Answer: {answer_llm}\n",
    "\n",
    "Please analyze the content and context of the generated answer in relation to the question\n",
    "and provide your evaluation in parsable JSON without using code blocks:\n",
    "\n",
    "{{\n",
    "  \"Relevance\": \"NON_RELEVANT\" | \"PARTLY_RELEVANT\" | \"RELEVANT\",\n",
    "  \"Explanation\": \"[Provide a brief explanation for your evaluation]\"\n",
    "}}\n",
    "\"\"\".strip()"
   ]
  },
  {
   "cell_type": "code",
   "execution_count": 96,
   "id": "eb793c64-af79-4398-88c6-2b881799f996",
   "metadata": {},
   "outputs": [
    {
     "data": {
      "text/plain": [
       "485"
      ]
     },
     "execution_count": 96,
     "metadata": {},
     "output_type": "execute_result"
    }
   ],
   "source": [
    "len(ground_truth)"
   ]
  },
  {
   "cell_type": "code",
   "execution_count": 97,
   "id": "55d2bf40-4fb6-49fa-a1ad-5d19c7fa47fa",
   "metadata": {},
   "outputs": [
    {
     "data": {
      "text/plain": [
       "{'id': 1590140,\n",
       " 'question': 'What are the different levels of severity for mental illnesses?'}"
      ]
     },
     "execution_count": 97,
     "metadata": {},
     "output_type": "execute_result"
    }
   ],
   "source": [
    "record = ground_truth[0]\n",
    "record"
   ]
  },
  {
   "cell_type": "code",
   "execution_count": 98,
   "id": "4991fe79-f4d0-4086-ae0e-efb27e40bdb0",
   "metadata": {},
   "outputs": [
    {
     "name": "stdout",
     "output_type": "stream",
     "text": [
      "Mental illnesses fall along a continuum of severity. Some are fairly mild and may only interfere with certain aspects of life, such as specific phobias. On the other end of the spectrum are serious mental illnesses, which can result in significant functional impairment and disruption of daily life. Examples of these more severe conditions include major depression, schizophrenia, and bipolar disorder, which may require hospitalization for care. This indicates that the severity of mental illness can range from mild disturbances to major impairments, impacting a person's ability to engage in ordinary daily activities.\n"
     ]
    }
   ],
   "source": [
    "record = ground_truth[0]\n",
    "question = record['question']\n",
    "answer_llm = rag(question)\n",
    "print(answer_llm)"
   ]
  },
  {
   "cell_type": "code",
   "execution_count": 99,
   "id": "86abda30-f17c-4c3b-bb90-35227e37c71a",
   "metadata": {},
   "outputs": [
    {
     "name": "stdout",
     "output_type": "stream",
     "text": [
      "You are an expert evaluator for a RAG system.\n",
      "Your task is to analyze the relevance of the generated answer to the given question.\n",
      "Based on the relevance of the generated answer, you will classify it\n",
      "as \"NON_RELEVANT\", \"PARTLY_RELEVANT\", or \"RELEVANT\".\n",
      "\n",
      "Here is the data for evaluation:\n",
      "\n",
      "Question: What are the different levels of severity for mental illnesses?\n",
      "Generated Answer: Mental illnesses fall along a continuum of severity. Some are fairly mild and may only interfere with certain aspects of life, such as specific phobias. On the other end of the spectrum are serious mental illnesses, which can result in significant functional impairment and disruption of daily life. Examples of these more severe conditions include major depression, schizophrenia, and bipolar disorder, which may require hospitalization for care. This indicates that the severity of mental illness can range from mild disturbances to major impairments, impacting a person's ability to engage in ordinary daily activities.\n",
      "\n",
      "Please analyze the content and context of the generated answer in relation to the question\n",
      "and provide your evaluation in parsable JSON without using code blocks:\n",
      "\n",
      "{\n",
      "  \"Relevance\": \"NON_RELEVANT\" | \"PARTLY_RELEVANT\" | \"RELEVANT\",\n",
      "  \"Explanation\": \"[Provide a brief explanation for your evaluation]\"\n",
      "}\n"
     ]
    }
   ],
   "source": [
    "prompt = prompt2_template.format(question=question, answer_llm=answer_llm)\n",
    "print(prompt)"
   ]
  },
  {
   "cell_type": "code",
   "execution_count": 100,
   "id": "964641f2-5950-4e88-88a2-5702cf756e29",
   "metadata": {},
   "outputs": [],
   "source": [
    "import json"
   ]
  },
  {
   "cell_type": "code",
   "execution_count": 101,
   "id": "aa07007e-f7f9-46df-b7a6-d5912d4429c6",
   "metadata": {},
   "outputs": [],
   "source": [
    "df_sample = df_questions.sample(n=200, random_state=1)"
   ]
  },
  {
   "cell_type": "code",
   "execution_count": 102,
   "id": "826ec05c-5d53-4d54-85ff-f68bae5bc654",
   "metadata": {},
   "outputs": [],
   "source": [
    "sample = df_sample.to_dict(orient='records')"
   ]
  },
  {
   "cell_type": "code",
   "execution_count": 103,
   "id": "eeee6fd1-cae7-4df5-8bd0-756b4429ed88",
   "metadata": {},
   "outputs": [
    {
     "data": {
      "application/vnd.jupyter.widget-view+json": {
       "model_id": "eeefe8c226ae420b92b34b0791a1673b",
       "version_major": 2,
       "version_minor": 0
      },
      "text/plain": [
       "  0%|          | 0/200 [00:00<?, ?it/s]"
      ]
     },
     "metadata": {},
     "output_type": "display_data"
    }
   ],
   "source": [
    "evaluations = []\n",
    "\n",
    "for record in tqdm(sample):\n",
    "    question = record['question']\n",
    "    answer_llm = rag(question,model='gpt-3.5-turbo') \n",
    "\n",
    "    prompt = prompt2_template.format(\n",
    "        question=question,\n",
    "        answer_llm=answer_llm\n",
    "    )\n",
    "\n",
    "    evaluation = llm(prompt)\n",
    "    evaluation = json.loads(evaluation)\n",
    "\n",
    "    evaluations.append((record, answer_llm, evaluation))"
   ]
  },
  {
   "cell_type": "code",
   "execution_count": 108,
   "id": "82837e34-5ad6-4843-96ca-3442a0be9677",
   "metadata": {},
   "outputs": [
    {
     "data": {
      "text/html": [
       "<div>\n",
       "<style scoped>\n",
       "    .dataframe tbody tr th:only-of-type {\n",
       "        vertical-align: middle;\n",
       "    }\n",
       "\n",
       "    .dataframe tbody tr th {\n",
       "        vertical-align: top;\n",
       "    }\n",
       "\n",
       "    .dataframe thead th {\n",
       "        text-align: right;\n",
       "    }\n",
       "</style>\n",
       "<table border=\"1\" class=\"dataframe\">\n",
       "  <thead>\n",
       "    <tr style=\"text-align: right;\">\n",
       "      <th></th>\n",
       "      <th>record</th>\n",
       "      <th>answer</th>\n",
       "      <th>evaluation</th>\n",
       "    </tr>\n",
       "  </thead>\n",
       "  <tbody>\n",
       "    <tr>\n",
       "      <th>0</th>\n",
       "      <td>{'id': 1030153, 'question': 'How can I find a ...</td>\n",
       "      <td>To find a suitable mental health professional ...</td>\n",
       "      <td>{'Relevance': 'RELEVANT', 'Explanation': 'The ...</td>\n",
       "    </tr>\n",
       "    <tr>\n",
       "      <th>1</th>\n",
       "      <td>{'id': 6981545, 'question': 'Can you provide d...</td>\n",
       "      <td>The Bounce Back program is a guided self-help ...</td>\n",
       "      <td>{'Relevance': 'RELEVANT', 'Explanation': 'The ...</td>\n",
       "    </tr>\n",
       "    <tr>\n",
       "      <th>2</th>\n",
       "      <td>{'id': 9250044, 'question': 'What are some com...</td>\n",
       "      <td>Joining a support group for individuals experi...</td>\n",
       "      <td>{'Relevance': 'RELEVANT', 'Explanation': 'The ...</td>\n",
       "    </tr>\n",
       "    <tr>\n",
       "      <th>3</th>\n",
       "      <td>{'id': 1667863, 'question': 'Why is it importa...</td>\n",
       "      <td>It is important to seek help early for mental ...</td>\n",
       "      <td>{'Relevance': 'RELEVANT', 'Explanation': 'The ...</td>\n",
       "    </tr>\n",
       "    <tr>\n",
       "      <th>4</th>\n",
       "      <td>{'id': 4211025, 'question': 'What options are ...</td>\n",
       "      <td>Treatment options for individuals experiencing...</td>\n",
       "      <td>{'Relevance': 'RELEVANT', 'Explanation': 'The ...</td>\n",
       "    </tr>\n",
       "  </tbody>\n",
       "</table>\n",
       "</div>"
      ],
      "text/plain": [
       "                                              record  \\\n",
       "0  {'id': 1030153, 'question': 'How can I find a ...   \n",
       "1  {'id': 6981545, 'question': 'Can you provide d...   \n",
       "2  {'id': 9250044, 'question': 'What are some com...   \n",
       "3  {'id': 1667863, 'question': 'Why is it importa...   \n",
       "4  {'id': 4211025, 'question': 'What options are ...   \n",
       "\n",
       "                                              answer  \\\n",
       "0  To find a suitable mental health professional ...   \n",
       "1  The Bounce Back program is a guided self-help ...   \n",
       "2  Joining a support group for individuals experi...   \n",
       "3  It is important to seek help early for mental ...   \n",
       "4  Treatment options for individuals experiencing...   \n",
       "\n",
       "                                          evaluation  \n",
       "0  {'Relevance': 'RELEVANT', 'Explanation': 'The ...  \n",
       "1  {'Relevance': 'RELEVANT', 'Explanation': 'The ...  \n",
       "2  {'Relevance': 'RELEVANT', 'Explanation': 'The ...  \n",
       "3  {'Relevance': 'RELEVANT', 'Explanation': 'The ...  \n",
       "4  {'Relevance': 'RELEVANT', 'Explanation': 'The ...  "
      ]
     },
     "execution_count": 108,
     "metadata": {},
     "output_type": "execute_result"
    }
   ],
   "source": [
    "df_eval = pd.DataFrame(evaluations, columns=['record', 'answer', 'evaluation'])\n",
    "df_eval.head()"
   ]
  },
  {
   "cell_type": "code",
   "execution_count": 110,
   "id": "22cddc4d-3dd0-4acf-bf38-d3c8c1d95f09",
   "metadata": {},
   "outputs": [],
   "source": [
    "df_eval = pd.DataFrame(evaluations, columns=['record', 'answer', 'evaluation'])\n",
    "\n",
    "df_eval['id'] = df_eval.record.apply(lambda d: d['id'])\n",
    "df_eval['question'] = df_eval.record.apply(lambda d: d['question'])\n",
    "\n",
    "df_eval['relevance'] = df_eval.evaluation.apply(lambda d: d['Relevance'])\n",
    "df_eval['explanation'] = df_eval.evaluation.apply(lambda d: d['Explanation'])\n",
    "\n",
    "del df_eval['record']\n",
    "del df_eval['evaluation']"
   ]
  },
  {
   "cell_type": "code",
   "execution_count": 111,
   "id": "d09b74b1-4fc8-4c2c-96c6-666a2fb237a5",
   "metadata": {},
   "outputs": [
    {
     "data": {
      "text/plain": [
       "tuple"
      ]
     },
     "execution_count": 111,
     "metadata": {},
     "output_type": "execute_result"
    }
   ],
   "source": [
    "type(evaluations[0])"
   ]
  },
  {
   "cell_type": "code",
   "execution_count": 112,
   "id": "ff2236f6-0456-4d6d-a1f0-427048edf0ed",
   "metadata": {},
   "outputs": [
    {
     "data": {
      "text/plain": [
       "relevance\n",
       "RELEVANT           191\n",
       "PARTLY_RELEVANT      5\n",
       "NON_RELEVANT         4\n",
       "Name: count, dtype: int64"
      ]
     },
     "execution_count": 112,
     "metadata": {},
     "output_type": "execute_result"
    }
   ],
   "source": [
    "df_eval.relevance.value_counts()"
   ]
  },
  {
   "cell_type": "code",
   "execution_count": 113,
   "id": "344a06a2-456d-4669-a1c2-e04a68d37444",
   "metadata": {},
   "outputs": [
    {
     "data": {
      "text/plain": [
       "relevance\n",
       "RELEVANT           0.955\n",
       "PARTLY_RELEVANT    0.025\n",
       "NON_RELEVANT       0.020\n",
       "Name: proportion, dtype: float64"
      ]
     },
     "execution_count": 113,
     "metadata": {},
     "output_type": "execute_result"
    }
   ],
   "source": [
    "df_eval.relevance.value_counts(normalize=True)"
   ]
  },
  {
   "cell_type": "code",
   "execution_count": 114,
   "id": "b3232988-5f84-4d2a-9e4c-ec91d321c8d4",
   "metadata": {},
   "outputs": [],
   "source": [
    "df_eval.to_csv('../App/data/rag-eval-gpt-3.5-turbo.csv', index=False)"
   ]
  },
  {
   "cell_type": "code",
   "execution_count": 115,
   "id": "733fef3f-3301-447d-b876-209745d661f6",
   "metadata": {},
   "outputs": [
    {
     "data": {
      "application/vnd.jupyter.widget-view+json": {
       "model_id": "4b3b7d15664f4c32b81ed758ec789e00",
       "version_major": 2,
       "version_minor": 0
      },
      "text/plain": [
       "  0%|          | 0/200 [00:00<?, ?it/s]"
      ]
     },
     "metadata": {},
     "output_type": "display_data"
    }
   ],
   "source": [
    "evaluations_gpt4o_mini = []\n",
    "\n",
    "for record in tqdm(sample):\n",
    "    question = record['question']\n",
    "    answer_llm = rag(question, model='gpt-4o-mini') \n",
    "\n",
    "    prompt = prompt2_template.format(\n",
    "        question=question,\n",
    "        answer_llm=answer_llm\n",
    "    )\n",
    "\n",
    "    evaluation = llm(prompt)\n",
    "    evaluation = json.loads(evaluation)\n",
    "    \n",
    "    evaluations_gpt4o_mini.append((record, answer_llm, evaluation))"
   ]
  },
  {
   "cell_type": "code",
   "execution_count": 120,
   "id": "8949febb-a42e-4a55-b43f-fe0f33855ddc",
   "metadata": {},
   "outputs": [],
   "source": [
    "df_eval = pd.DataFrame(evaluations_gpt4o_mini, columns=['record', 'answer', 'evaluation'])\n",
    "\n",
    "df_eval['id'] = df_eval.record.apply(lambda d: d['id'])\n",
    "df_eval['question'] = df_eval.record.apply(lambda d: d['question'])\n",
    "\n",
    "df_eval['relevance'] = df_eval.evaluation.apply(lambda d: d['Relevance'])\n",
    "df_eval['explanation'] = df_eval.evaluation.apply(lambda d: d['Explanation'])\n",
    "\n",
    "del df_eval['record']\n",
    "del df_eval['evaluation']"
   ]
  },
  {
   "cell_type": "code",
   "execution_count": 121,
   "id": "ac69491a-dab4-43a3-bd41-76a9a1348da6",
   "metadata": {},
   "outputs": [
    {
     "data": {
      "text/plain": [
       "relevance\n",
       "RELEVANT           198\n",
       "PARTLY_RELEVANT      2\n",
       "Name: count, dtype: int64"
      ]
     },
     "execution_count": 121,
     "metadata": {},
     "output_type": "execute_result"
    }
   ],
   "source": [
    "df_eval.relevance.value_counts()"
   ]
  },
  {
   "cell_type": "code",
   "execution_count": 122,
   "id": "1e6c8750-3480-4b6e-8104-d1d98de82e60",
   "metadata": {},
   "outputs": [
    {
     "data": {
      "text/plain": [
       "relevance\n",
       "RELEVANT           0.99\n",
       "PARTLY_RELEVANT    0.01\n",
       "Name: proportion, dtype: float64"
      ]
     },
     "execution_count": 122,
     "metadata": {},
     "output_type": "execute_result"
    }
   ],
   "source": [
    "df_eval.relevance.value_counts(normalize=True)"
   ]
  },
  {
   "cell_type": "code",
   "execution_count": 123,
   "id": "bc6ca544-fc8f-4a1e-b21c-49fe22116c31",
   "metadata": {},
   "outputs": [],
   "source": [
    "\n",
    "df_eval.to_csv('../App/data/rag-eval-gpt_4o_mini.csv', index=False)\n"
   ]
  },
  {
   "cell_type": "code",
   "execution_count": 124,
   "id": "422567de-8437-463b-83d4-184868b59107",
   "metadata": {},
   "outputs": [],
   "source": [
    "import pandas as pd\n",
    "df=pd.read_csv('../App/data/rag-eval-gpt_4o_mini.csv')"
   ]
  },
  {
   "cell_type": "code",
   "execution_count": 125,
   "id": "c9777286-c8fb-49bc-a662-f722f795231e",
   "metadata": {},
   "outputs": [
    {
     "data": {
      "text/plain": [
       "relevance\n",
       "RELEVANT           0.99\n",
       "PARTLY_RELEVANT    0.01\n",
       "Name: proportion, dtype: float64"
      ]
     },
     "execution_count": 125,
     "metadata": {},
     "output_type": "execute_result"
    }
   ],
   "source": [
    "df.relevance.value_counts(normalize=True)"
   ]
  },
  {
   "cell_type": "code",
   "execution_count": null,
   "id": "917a5b1e-12f6-4105-b608-73535a69ece9",
   "metadata": {},
   "outputs": [],
   "source": []
  }
 ],
 "metadata": {
  "kernelspec": {
   "display_name": "Python 3 (ipykernel)",
   "language": "python",
   "name": "python3"
  },
  "language_info": {
   "codemirror_mode": {
    "name": "ipython",
    "version": 3
   },
   "file_extension": ".py",
   "mimetype": "text/x-python",
   "name": "python",
   "nbconvert_exporter": "python",
   "pygments_lexer": "ipython3",
   "version": "3.10.14"
  }
 },
 "nbformat": 4,
 "nbformat_minor": 5
}
